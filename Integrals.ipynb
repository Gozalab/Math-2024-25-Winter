{
  "nbformat": 4,
  "nbformat_minor": 0,
  "metadata": {
    "colab": {
      "provenance": [],
      "authorship_tag": "ABX9TyNyeKRW/5tZu/w4Dm7W5etK",
      "include_colab_link": true
    },
    "kernelspec": {
      "name": "python3",
      "display_name": "Python 3"
    },
    "language_info": {
      "name": "python"
    }
  },
  "cells": [
    {
      "cell_type": "markdown",
      "metadata": {
        "id": "view-in-github",
        "colab_type": "text"
      },
      "source": [
        "<a href=\"https://colab.research.google.com/github/Gozalab/Math-2024-25-Winter/blob/main/Integrals.ipynb\" target=\"_parent\"><img src=\"https://colab.research.google.com/assets/colab-badge.svg\" alt=\"Open In Colab\"/></a>"
      ]
    },
    {
      "cell_type": "markdown",
      "source": [
        "## Integrals\n",
        "\n",
        "1. Compute:\n",
        "   - $\\int 1 dx$\n",
        "   - $\\int (x^2 +2) dx$\n",
        "   - $\\int 2\\sin(x) dx$\n",
        "   - $\\int \\frac{3}{x} dx$\n",
        "   - $\\int \\frac{1}{x^2} dx$\n",
        "   - $\\int \\left( \\frac{1}{3}x^4 - 5 \\right) \\, dx$\n",
        "   - $\\int (\\sin^2 x + \\cos^2 x) \\, dx$\n",
        "   - $\\int (5 \\sin x + 3e^x) \\, dx$\n",
        "   - $\\int \\sqrt[3]{x} \\, dx$\n",
        "   - $\\int \\sqrt{10x} \\, dx$\n",
        "   - $\\int \\cos\\left(\\frac{5}{2}x + 3\\right) \\, dx$\n",
        "   - $\\int \\frac{\\cos(\\ln(x))}{x} \\, dx$\n",
        "   - $\\int x \\ln(x) \\, dx$\n",
        "   - $\\int x e^x \\, dx$\n",
        "\n",
        "2. Calculate integrals over the interval $[0, \\pi]$ and visualize them in Geogebra:\n",
        "   - $f(x)=2x+1$\n",
        "   - $g(x)=x^2$\n",
        "\n",
        "3. Calculate the area of the region bounded by the lines:\n",
        "$x = 1$, $x = 2$, $y = 0$, and $y = x^2 + 1$. Show it in Geogebra.\n",
        "\n",
        "4. Calculate the area under the sine curve over the interval $[0, \\pi]$, using:\n",
        "\n",
        "$$P = \\int_a^b f(x) \\, dx = \\int_0^\\pi \\sin(x) \\, dx$$\n"
      ],
      "metadata": {
        "id": "_5P5Orb2sK7E"
      }
    },
    {
      "cell_type": "markdown",
      "source": [
        "\\section*{Integrals}\n",
        "\n",
        "\\subsection*{1. Compute}\n",
        "\n",
        "\\begin{enumerate}\n",
        "   \n",
        "   $$\\int 1 \\, dx = x + C$$\n",
        "   \n",
        "   $$\\int (x^2 + 2) \\, dx = \\frac{x^3}{3} + 2x + C$$\n",
        "   \n",
        "  $$\\int 2\\sin(x) \\, dx = -2\\cos(x) + C$$\n",
        "   \n",
        "  $$\\int \\frac{3}{x} \\, dx = 3\\ln|x| + C$$\n",
        "   \n",
        "  $$\\int \\frac{1}{x^2} \\, dx = -\\frac{1}{x} + C$$\n",
        "   \n",
        "   $$\\int \\left( \\frac{1}{3}x^4 - 5 \\right) \\, dx = \\frac{1}{15}x^5 - 5x + C$$\n",
        "   \n",
        "   $$\\int (\\sin^2(x) + \\cos^2(x)) \\, dx = \\int 1 \\, dx = x + C$$\n",
        "   \n",
        "   $$\\int (5 \\sin(x) + 3e^x) \\, dx = -5\\cos(x) + 3e^x + C$$\n",
        "   \n",
        "  $$\\int \\sqrt[3]{x} \\, dx = \\int x^{1/3} \\, dx = \\frac{3}{4}x^{4/3} +\n",
        "    C$$\n",
        "  \n",
        "  $$\\int \\sqrt{10x} \\, dx = \\int \\sqrt{10} \\cdot \\sqrt{x} \\, dx = \\frac{2\\sqrt{10}}{3}x^{3/2} + C$$\n",
        "    \n",
        "   $$\\int \\cos\\left(\\frac{5}{2}x + 3\\right) \\, dx = \\frac{2}{5}\\sin\\left(\\frac{5}{2}x + 3\\right) + C$$\n",
        "    \n",
        "   $$\\int \\frac{\\cos(\\ln(x))}{x} \\, dx = \\sin(\\ln(x)) + C$$\n",
        "    \n",
        "  $$\\int x \\ln(x) \\, dx = \\frac{x^2}{2} \\ln(x) - \\frac{x^2}{4} + C$$\n",
        "    \n",
        "   $$\\int x e^x \\, dx = (x - 1)e^x + C$$\n",
        "\\end{enumerate}\n",
        "\n",
        "{2. Calculate integrals over the interval $[0, \\pi]$ and visualize them in Geogebra:}\n",
        "\n",
        "\\begin{enumerate}\n",
        " For $f(x) = 2x + 1$:\n",
        "  $$\n",
        "   \\int_0^\\pi (2x + 1) \\, dx = \\left[ x^2 + x \\right]_0^\\pi = \\pi^2 + \\pi.\n",
        "   $$\n",
        "\n",
        "   For $g(x) = x^2$:\n",
        "  $$\n",
        "  \\int_0^\\pi x^2 \\, dx = \\left[ \\frac{x^3}{3} \\right]_0^\\pi = \\frac{\\pi^3}{3}.\n",
        "   $$\n",
        "\\end{enumerate}\n",
        "\n",
        "{3. Calculate the area of the region bounded by the lines $x = 1$, $x = 2$, $y = 0$, and $y = x^2 + 1$:}\n",
        "\n",
        "The area is:\n",
        "$$\n",
        "\\int_1^2 (x^2 + 1) \\, dx = \\left[ \\frac{x^3}{3} + x \\right]_1^2 = \\left(\\frac{8}{3} + 2\\right) - \\left(\\frac{1}{3} + 1\\right) = \\frac{10}{3}.\n",
        "$$\n",
        "\n",
        "\\{4. Calculate the area under the sine curve over the interval $[0, \\pi]$:}\n",
        "\n",
        "$$\n",
        "P = \\int_0^\\pi \\sin(x) \\, dx = \\left[ -\\cos(x) \\right]_0^\\pi = -\\cos(\\pi) + \\cos(0) = -(-1) + 1 = 2.\n",
        "$$\n"
      ],
      "metadata": {
        "id": "Op4CTHv0w8Mo"
      }
    },
    {
      "cell_type": "code",
      "execution_count": null,
      "metadata": {
        "id": "lm6mQ94ZqvvL"
      },
      "outputs": [],
      "source": []
    }
  ]
}