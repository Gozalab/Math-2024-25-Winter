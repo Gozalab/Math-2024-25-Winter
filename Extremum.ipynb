{
  "nbformat": 4,
  "nbformat_minor": 0,
  "metadata": {
    "colab": {
      "provenance": [],
      "authorship_tag": "ABX9TyMfAsD0Szgl6eCHKh3vPiGC",
      "include_colab_link": true
    },
    "kernelspec": {
      "name": "python3",
      "display_name": "Python 3"
    },
    "language_info": {
      "name": "python"
    }
  },
  "cells": [
    {
      "cell_type": "markdown",
      "metadata": {
        "id": "view-in-github",
        "colab_type": "text"
      },
      "source": [
        "<a href=\"https://colab.research.google.com/github/Gozalab/Math-2024-25-Winter/blob/main/Extremum.ipynb\" target=\"_parent\"><img src=\"https://colab.research.google.com/assets/colab-badge.svg\" alt=\"Open In Colab\"/></a>"
      ]
    },
    {
      "cell_type": "markdown",
      "source": [
        "\n",
        "## Extremum\n",
        "\n",
        "6. The profit function is $P(u) = -2u^2 + 50u - 300$, where $u$ is the number of units sold. Find the number of units that maximize profit.\n",
        "\n",
        "7. You have 10 meters of string, and you need to use it to enclose the largest possible rectangular. Find the dimensions of the rectangle.\n",
        "\n",
        "8. Find extremum od $f(x) = x^2 + 3x - 5$.\n",
        "\n",
        "9. Find extremum of $f(x) =\\frac{x^2+2x+1}{x-1}$.\n",
        "\n",
        "\n",
        "{6. The profit function is $P(u) = -2u^2 + 50u - 300$. Find the number of units that maximize profit.}\n",
        "\n",
        "To find the value of $u$ that maximizes the profit, we use the formula for the vertex of a parabola, $u = -\\frac{b}{2a}$. Here:\n",
        "$$\n",
        "P(u) = -2u^2 + 50u - 300, \\quad a = -2, \\quad b = 50.\n",
        "$$\n",
        "$$\n",
        "u = -\\frac{50}{2(-2)} = \\frac{50}{4} = 12.5.\n",
        "$$\n",
        "Thus, the profit is maximized when $u = 12.5$ units.\n",
        "\n",
        "\n",
        "{7. You have 10 meters of string, and you need to use it to enclose the largest possible rectangle. Find the dimensions of the rectangle.}\n",
        "\n",
        "Let the length and width of the rectangle be $l$ and $w$, respectively. The perimeter is given by:\n",
        "$$\n",
        "2l + 2w = 10 \\quad \\Rightarrow \\quad l + w = 5.\n",
        "$$\n",
        "The area of the rectangle is:\n",
        "$$\n",
        "A = l \\cdot w.\n",
        "$$\n",
        "Substitute $w = 5 - l$:\n",
        "$$\n",
        "A = l(5 - l) = 5l - l^2.\n",
        "$$\n",
        "This is a quadratic function, and the maximum area occurs at the vertex:\n",
        "$$\n",
        "l = -\\frac{b}{2a}, \\quad a = -1, \\quad b = 5.\n",
        "$$\n",
        "$$\n",
        "l = -\\frac{5}{2(-1)} = \\frac{5}{2} = 2.5.\n",
        "$$\n",
        "Thus, $w = 5 - l = 5 - 2.5 = 2.5$. The dimensions of the rectangle are $2.5 \\, \\text{m} \\times 2.5 \\, \\text{m}$.\n",
        "\n",
        "\n",
        "{8. Find extremum of $f(x) = x^2 + 3x - 5$.}\n",
        "\n",
        "The function is a parabola, $f(x) = ax^2 + bx + c$, where $a = 1$, $b = 3$, and $c = -5$. The $x$-coordinate of the vertex is:\n",
        "$$\n",
        "x = -\\frac{b}{2a} = -\\frac{3}{2(1)} = -\\frac{3}{2}.\n",
        "$$\n",
        "The $y$-coordinate is:\n",
        "$$\n",
        "f\\left(-\\frac{3}{2}\\right) = \\left(-\\frac{3}{2}\\right)^2 + 3\\left(-\\frac{3}{2}\\right) - 5.\n",
        "$$\n",
        "$$\n",
        "f\\left(-\\frac{3}{2}\\right) = \\frac{9}{4} - \\frac{9}{2} - 5 = \\frac{9}{4} - \\frac{18}{4} - \\frac{20}{4} = -\\frac{29}{4}.\n",
        "$$\n",
        "The extremum is a minimum at $x = -\\frac{3}{2}$, $f(x) = -\\frac{29}{4}$.\n",
        "\n",
        "{9. Find extremum of $f(x) = \\frac{x^2 + 2x + 1}{x - 1}$.}\n",
        "\n",
        "First, rewrite $f(x)$:\n",
        "$$\n",
        "f(x) = \\frac{(x+1)^2}{x-1}.\n",
        "$$\n",
        "To find the critical points, compute the derivative:\n",
        "$$\n",
        "f'(x) = \\frac{(x - 1) \\cdot 2(x + 1) - (x + 1)^2}{(x - 1)^2}.\n",
        "$$\n",
        "Simplify the numerator:\n",
        "$$\n",
        "f'(x) = \\frac{2(x + 1)(x - 1) - (x + 1)^2}{(x - 1)^2} = \\frac{2(x^2 - 1) - (x^2 + 2x + 1)}{(x - 1)^2}.\n",
        "$$\n",
        "$$\n",
        "f'(x) = \\frac{2x^2 - 2 - x^2 - 2x - 1}{(x - 1)^2} = \\frac{x^2 - 2x - 3}{(x - 1)^2}.\n",
        "$$\n",
        "Factorize the numerator:\n",
        "$$\n",
        "f'(x) = \\frac{(x - 3)(x + 1)}{(x - 1)^2}.\n",
        "$$\n",
        "Critical points occur when $f'(x) = 0$:\n",
        "$$\n",
        "x - 3 = 0 \\quad \\Rightarrow \\quad x = 3, \\quad x + 1 = 0 \\quad \\Rightarrow \\quad x = -1.\n",
        "$$\n",
        "\n",
        "\n"
      ],
      "metadata": {
        "id": "cc_QWVNF4nDz"
      }
    },
    {
      "cell_type": "code",
      "execution_count": null,
      "metadata": {
        "id": "827w-sba4l23"
      },
      "outputs": [],
      "source": []
    }
  ]
}