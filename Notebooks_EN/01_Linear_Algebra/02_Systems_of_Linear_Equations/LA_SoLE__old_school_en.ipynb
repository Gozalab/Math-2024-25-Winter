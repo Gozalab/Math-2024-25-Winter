{
  "cells": [
    {
      "cell_type": "markdown",
      "metadata": {
        "id": "PeHRc-3uUW7F"
      },
      "source": [
        "# School Method for Solving Systems of Linear Equations"
      ]
    },
    {
      "cell_type": "code",
      "execution_count": null,
      "metadata": {
        "id": "xMdcUhl-UW7H"
      },
      "outputs": [],
      "source": [
        "import sympy as sp\n",
        "from sympy import symbols, Eq, expand, solve\n",
        "\n",
        "class EnhancedEq(Eq):\n",
        "    def __add__(self, other):\n",
        "        return EnhancedEq(self.lhs + other.lhs, self.rhs + other.rhs)\n",
        "\n",
        "    def __sub__(self, other):\n",
        "        return EnhancedEq(self.lhs - other.lhs, self.rhs - other.rhs)\n",
        "\n",
        "    def __mul__(self, scalar):\n",
        "        return EnhancedEq(scalar * self.lhs, scalar * self.rhs)\n",
        "\n",
        "    def __rmul__(self, scalar):\n",
        "        return self.__mul__(scalar)\n",
        "\n",
        "    def simplify(self):\n",
        "        return EnhancedEq(expand(self.lhs), expand(self.rhs))\n",
        "\n",
        "    def substitute(self, *args, **kwargs):\n",
        "        return EnhancedEq(self.lhs.subs(*args, **kwargs), self.rhs.subs(*args, **kwargs))\n",
        "\n",
        "    def solve_for(self, symbol):\n",
        "        return solve(self, symbol)\n",
        "\n",
        "# Example usage:\n",
        "x, y = symbols('x y')\n",
        "\n",
        "# Define equations\n",
        "eq1 = EnhancedEq(2*x + y, 5)\n",
        "eq2 = EnhancedEq(x - y, 1)"
      ]
    },
    {
      "cell_type": "code",
      "execution_count": null,
      "metadata": {
        "id": "MHh7M7QSUW7I",
        "outputId": "3be1161f-f85a-4251-f65d-a86f0a40f590"
      },
      "outputs": [
        {
          "name": "stdout",
          "output_type": "stream",
          "text": [
            "First equation:\n"
          ]
        },
        {
          "data": {
            "text/latex": [
              "$\\displaystyle 2 x + y = 5$"
            ],
            "text/plain": [
              "Eq(2*x + y, 5)"
            ]
          },
          "execution_count": 2,
          "metadata": {},
          "output_type": "execute_result"
        }
      ],
      "source": [
        "print(\"First equation:\")\n",
        "eq1"
      ]
    },
    {
      "cell_type": "code",
      "execution_count": null,
      "metadata": {
        "id": "0vzufhpEUW7I",
        "outputId": "bac2c8bb-0d64-4ccd-8eb4-992fc0c09218"
      },
      "outputs": [
        {
          "name": "stdout",
          "output_type": "stream",
          "text": [
            "Second equation:\n"
          ]
        },
        {
          "data": {
            "text/latex": [
              "$\\displaystyle x - y = 1$"
            ],
            "text/plain": [
              "Eq(x - y, 1)"
            ]
          },
          "execution_count": 3,
          "metadata": {},
          "output_type": "execute_result"
        }
      ],
      "source": [
        "print(\"Second equation:\")\n",
        "eq2"
      ]
    },
    {
      "cell_type": "code",
      "execution_count": null,
      "metadata": {
        "id": "vgd5qnyYUW7I",
        "outputId": "70942569-0a93-43f1-ad02-949f014f71b7"
      },
      "outputs": [
        {
          "data": {
            "text/latex": [
              "$\\displaystyle 3 x = 6$"
            ],
            "text/plain": [
              "Eq(3*x, 6)"
            ]
          },
          "execution_count": 4,
          "metadata": {},
          "output_type": "execute_result"
        }
      ],
      "source": [
        "# Add the equations\n",
        "eq3 = eq1 + eq2\n",
        "eq3"
      ]
    },
    {
      "cell_type": "code",
      "execution_count": null,
      "metadata": {
        "id": "-679Wx8UUW7I",
        "outputId": "ea504402-b263-4fab-fed5-b9858736e52e"
      },
      "outputs": [
        {
          "data": {
            "text/latex": [
              "$\\displaystyle 2$"
            ],
            "text/plain": [
              "2"
            ]
          },
          "execution_count": 5,
          "metadata": {},
          "output_type": "execute_result"
        }
      ],
      "source": [
        "# We have an equation with one unknown, so we can solve it\n",
        "sol_x = eq3.solve_for(x)[0]\n",
        "sol_x"
      ]
    },
    {
      "cell_type": "code",
      "execution_count": null,
      "metadata": {
        "id": "SZLqRuoiUW7J",
        "outputId": "b97eb618-0e89-4926-b84b-41ce9232595a"
      },
      "outputs": [
        {
          "data": {
            "text/latex": [
              "$\\displaystyle 2 - y = 1$"
            ],
            "text/plain": [
              "Eq(2 - y, 1)"
            ]
          },
          "execution_count": 6,
          "metadata": {},
          "output_type": "execute_result"
        }
      ],
      "source": [
        "# Substitute the solution into equation 2\n",
        "eq2 = eq2.substitute(x, sol_x)\n",
        "eq2"
      ]
    },
    {
      "cell_type": "code",
      "execution_count": null,
      "metadata": {
        "id": "50-AeuL5UW7J",
        "outputId": "205179d5-7e44-4cb0-a91a-21b3ecd7f4d2"
      },
      "outputs": [
        {
          "data": {
            "text/latex": [
              "$\\displaystyle 1$"
            ],
            "text/plain": [
              "1"
            ]
          },
          "execution_count": 7,
          "metadata": {},
          "output_type": "execute_result"
        }
      ],
      "source": [
        "# We get an equation with one unknown, so we can solve it\n",
        "eq2.solve_for(y)[0]"
      ]
    },
    {
      "cell_type": "code",
      "execution_count": null,
      "metadata": {
        "id": "xsMeQ3EDUW7J",
        "outputId": "3e61ccfe-fb23-43b0-a699-89fd4f881f88"
      },
      "outputs": [
        {
          "data": {
            "text/plain": [
              "{x: 2, y: 1}"
            ]
          },
          "execution_count": 8,
          "metadata": {},
          "output_type": "execute_result"
        }
      ],
      "source": [
        "# Thus x=2, y=1\n",
        "# Verify with sympy\n",
        "sp.solve([eq1, eq2])"
      ]
    },
    {
      "cell_type": "markdown",
      "metadata": {
        "id": "zsfomFzhUW7J"
      },
      "source": [
        "---\n",
        "\n",
        "### Exercises for Students\n",
        "\n",
        "Solve the following systems of equations similarly to the example above:\n",
        "\n",
        "* $3x-2y=5, \\quad 2x+3y=7$,\n",
        "* $2x-3y=10, \\quad 4x+5y=20$,\n",
        "* $2x - y + z = 3, \\quad x + 2y - z = 1, \\quad 3x - y + 2z = 11$.\n",
        "* $2x-3y+4z+2t=2, \\quad 3x+2y-5z+3t=3, \\quad 4x-3y+2z-5t=4, \\quad 5x+4y-3z+2t=5$."
      ]
    },
    {
      "cell_type": "markdown",
      "source": [
        "\n",
        "\n",
        "1. **System of Equations:**\n",
        "$$\n",
        "\\begin{cases}\n",
        "3x - 2y = 5 \\\\\n",
        "2x + 3y = 7\n",
        "\\end{cases}\n",
        "$$\n",
        "\n",
        "**Steps:**\n",
        "\n",
        "1. Write the equations:\n",
        "$$\n",
        "\\begin{aligned}\n",
        "1. & \\quad 3x - 2y = 5 \\quad \\text{(Equation 1)} \\\\\n",
        "2. & \\quad 2x + 3y = 7 \\quad \\text{(Equation 2)}\n",
        "\\end{aligned}\n",
        "$$\n",
        "\n",
        "2. Multiply Equation 1 by 2 and Equation 2 by 3:\n",
        "$$\n",
        "\\begin{aligned}\n",
        "2(3x - 2y) &= 2 \\cdot 5 \\quad \\Rightarrow \\quad 6x - 4y = 10 \\quad \\text{(Equation 3)} \\\\\n",
        "3(2x + 3y) &= 3 \\cdot 7 \\quad \\Rightarrow \\quad 6x + 9y = 21 \\quad \\text{(Equation 4)}\n",
        "\\end{aligned}\n",
        "$$\n",
        "\n",
        "3. Subtract Equation 3 from Equation 4:\n",
        "$$\n",
        "(6x + 9y) - (6x - 4y) = 21 - 10 \\quad \\Rightarrow \\quad 13y = 11 \\quad \\Rightarrow \\quad y = \\frac{11}{13}\n",
        "$$\n",
        "\n",
        "4. Substitute \\(y\\) back into Equation 1 to find \\(x\\):\n",
        "$$\n",
        "3x - 2\\left(\\frac{11}{13}\\right) = 5 \\quad \\Rightarrow \\quad 3x = 5 + \\frac{22}{13} \\quad \\Rightarrow \\quad 3x = \\frac{65 + 22}{13} = \\frac{87}{13} \\quad \\Rightarrow \\quad x = \\frac{29}{13}\n",
        "$$\n",
        "\n",
        "---\n",
        "\n",
        "2. **System of Equations:**\n",
        "$$\n",
        "\\begin{cases}\n",
        "2x - 3y = 10 \\\\\n",
        "4x + 5y = 20\n",
        "\\end{cases}\n",
        "$$\n",
        "\n",
        "**Steps:**\n",
        "\n",
        "1. Write the equations:\n",
        "$$\n",
        "\\begin{aligned}\n",
        "1. & \\quad 2x - 3y = 10 \\quad \\text{(Equation 1)} \\\\\n",
        "2. & \\quad 4x + 5y = 20 \\quad \\text{(Equation 2)}\n",
        "\\end{aligned}\n",
        "$$\n",
        "\n",
        "2. Multiply Equation 1 by 2:\n",
        "$$\n",
        "2(2x - 3y) = 2 \\cdot 10 \\quad \\Rightarrow \\quad 4x - 6y = 20 \\quad \\text{(Equation 3)}\n",
        "$$\n",
        "\n",
        "3. Set Equations equal to eliminate \\(x\\):\n",
        "$$\n",
        "4x - 6y = 20 \\quad \\Rightarrow \\quad 4x + 5y = 20\n",
        "$$\n",
        "\n",
        "4. Subtract the equations:\n",
        "$$\n",
        "(-6y - 5y) = 20 - 20 \\quad \\Rightarrow \\quad -11y = 0 \\quad \\Rightarrow \\quad y = 0\n",
        "$$\n",
        "\n",
        "5. Substitute \\(y\\) back into Equation 1:\n",
        "$$\n",
        "2x - 3(0) = 10 \\quad \\Rightarrow \\quad 2x = 10 \\quad \\Rightarrow \\quad x = 5\n",
        "$$\n",
        "\n",
        "---\n",
        "\n",
        "3. **System of Equations:**\n",
        "$$\n",
        "\\begin{cases}\n",
        "2x - y + z = 3 \\\\\n",
        "x + 2y - z = 1 \\\\\n",
        "3x - y + 2z = 11\n",
        "\\end{cases}\n",
        "$$\n",
        "\n",
        "**Steps:**\n",
        "\n",
        "1. Write the equations:\n",
        "$$\n",
        "\\begin{aligned}\n",
        "1. & \\quad 2x - y + z = 3 \\quad \\text{(Equation 1)} \\\\\n",
        "2. & \\quad x + 2y - z = 1 \\quad \\text{(Equation 2)} \\\\\n",
        "3. & \\quad 3x - y + 2z = 11 \\quad \\text{(Equation 3)}\n",
        "\\end{aligned}\n",
        "$$\n",
        "\n",
        "2. Add Equations 1 and 2:\n",
        "$$\n",
        "(2x - y + z) + (x + 2y - z) = 3 + 1 \\quad \\Rightarrow \\quad 3x + y = 4 \\quad \\text{(Equation 4)}\n",
        "$$\n",
        "\n",
        "3. Substitute Equation 4 into Equation 3:\n",
        "$$\n",
        "3(3x + y) - y + 2z = 11 \\quad \\Rightarrow \\quad 9x + 2z = 11 - 3 \\quad \\Rightarrow \\quad 9x + 2z = 8\n",
        "$$\n",
        "\n",
        "4. Solve the resulting equations to find \\(x\\), \\(y\\), and \\(z\\).\n",
        "\n",
        "---\n",
        "\n",
        "4. **System of Equations:**\n",
        "$$\n",
        "\\begin{cases}\n",
        "2x - 3y + 4z + 2t = 2 \\\\\n",
        "3x + 2y - 5z + 3t = 3 \\\\\n",
        "4x - 3y + 2z - 5t = 4 \\\\\n",
        "5x + 4y - 3z + 2t = 5\n",
        "\\end{cases}\n",
        "$$\n",
        "\n",
        "**Steps:**\n",
        "\n",
        "1. Write the equations:\n",
        "$$\n",
        "\\begin{aligned}\n",
        "1. & \\quad 2x - 3y + 4z + 2t = 2 \\quad \\text{(Equation 1)} \\\\\n",
        "2. & \\quad 3x + 2y - 5z + 3t = 3 \\quad \\text{(Equation 2)} \\\\\n",
        "3. & \\quad 4x - 3y + 2z - 5t = 4 \\quad \\text{(Equation 3)} \\\\\n",
        "4. & \\quad 5x + 4y - 3z + 2t = 5 \\quad \\text{(Equation 4)}\n",
        "\\end{aligned}\n",
        "$$\n",
        "\n",
        "2. Eliminate variables systematically to find \\(x\\), \\(y\\), \\(z\\), and \\(t\\).\n",
        "\n",
        "---\n"
      ],
      "metadata": {
        "id": "VQ_66OVPWZuG"
      }
    },
    {
      "cell_type": "markdown",
      "source": [
        "\n"
      ],
      "metadata": {
        "id": "VFSgssrDXgX6"
      }
    },
    {
      "cell_type": "code",
      "source": [],
      "metadata": {
        "id": "0SQVspbGWaZo"
      },
      "execution_count": null,
      "outputs": []
    }
  ],
  "metadata": {
    "kernelspec": {
      "display_name": "Python 3",
      "language": "python",
      "name": "python3"
    },
    "language_info": {
      "codemirror_mode": {
        "name": "ipython",
        "version": 3
      },
      "file_extension": ".py",
      "mimetype": "text/x-python",
      "name": "python",
      "nbconvert_exporter": "python",
      "pygments_lexer": "ipython3",
      "version": "3.11.9"
    },
    "colab": {
      "provenance": []
    }
  },
  "nbformat": 4,
  "nbformat_minor": 0
}