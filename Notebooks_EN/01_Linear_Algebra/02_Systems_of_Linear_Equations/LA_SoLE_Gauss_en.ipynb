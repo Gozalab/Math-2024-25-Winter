{
  "cells": [
    {
      "cell_type": "markdown",
      "metadata": {
        "id": "ny_nsKwrFVia"
      },
      "source": [
        "# Gaussian Elimination Method\n",
        "\n",
        "Solving a system of linear equations using the Gaussian elimination method involves transforming the coefficient matrix of the system into an upper triangular matrix, followed by solving the system using back substitution.\n",
        "\n",
        "This is one of the most fundamental methods for solving systems of linear equations, especially in cases where the number of unknowns is different from the number of equations."
      ]
    },
    {
      "cell_type": "code",
      "execution_count": null,
      "metadata": {
        "id": "QFxWNxQVFVic",
        "outputId": "b763cc63-ba0b-4c5e-df2a-bbee4092f96d"
      },
      "outputs": [
        {
          "data": {
            "text/markdown": [
              "**Initial equations:**"
            ],
            "text/plain": [
              "<IPython.core.display.Markdown object>"
            ]
          },
          "metadata": {},
          "output_type": "display_data"
        },
        {
          "data": {
            "text/markdown": [
              "System of equations:"
            ],
            "text/plain": [
              "<IPython.core.display.Markdown object>"
            ]
          },
          "metadata": {},
          "output_type": "display_data"
        },
        {
          "data": {
            "text/markdown": [
              "$$\\begin{aligned} 1 x_{1} + 2 x_{2} + 3 x_{3} = 10 \\\\ 4 x_{1} + 5 x_{2} + 6 x_{3} = 11 \\\\ 7 x_{1} + 8 x_{2} + 12 x_{3} = 18 \\end{aligned}$$"
            ],
            "text/plain": [
              "<IPython.core.display.Markdown object>"
            ]
          },
          "metadata": {},
          "output_type": "display_data"
        }
      ],
      "source": [
        "from sympy import Matrix, symbols, Eq, latex\n",
        "from IPython.display import display, Markdown\n",
        "import sympy as sp\n",
        "\n",
        "class SymbolicMatrix:\n",
        "    def __init__(self, matrix, column_labels=None, free_terms=None, display_mode=\"table\"):\n",
        "        self.matrix = Matrix(matrix)\n",
        "        self.operations = []\n",
        "        self.display_mode = display_mode\n",
        "\n",
        "        if column_labels:\n",
        "            if len(column_labels) != self.matrix.cols:\n",
        "                raise ValueError(\"The number of column labels must be equal to the number of columns in the matrix.\")\n",
        "            self.column_labels = column_labels\n",
        "        else:\n",
        "            self.column_labels = [f\"x{i+1}\" for i in range(self.matrix.cols)]\n",
        "\n",
        "        if free_terms:\n",
        "            if len(free_terms) != self.matrix.rows:\n",
        "                raise ValueError(\"The number of free terms must be equal to the number of rows in the matrix.\")\n",
        "            self.free_terms = free_terms\n",
        "        else:\n",
        "            self.free_terms = [0 for _ in range(self.matrix.rows)]\n",
        "\n",
        "        display(Markdown(\"**Initial equations:**\"))\n",
        "        self.display_matrix()\n",
        "\n",
        "    def set_display_mode(self, mode):\n",
        "        if mode not in [\"table\", \"equations\"]:\n",
        "            raise ValueError(\"Display mode must be 'table' or 'equations'.\")\n",
        "        self.display_mode = mode\n",
        "\n",
        "    def display_matrix(self):\n",
        "        if self.display_mode == \"table\":\n",
        "            self._display_table()\n",
        "        elif self.display_mode == \"equations\":\n",
        "            self._display_equations()\n",
        "\n",
        "    def _display_table(self):\n",
        "        matrix_with_free_terms = self.matrix.row_join(Matrix(self.free_terms))\n",
        "        headers = self.column_labels + [\"Free term\"]\n",
        "        display(Markdown(self._matrix_to_markdown(matrix_with_free_terms, headers)))\n",
        "\n",
        "    def _matrix_to_markdown(self, matrix, headers):\n",
        "        markdown_str = \"| \" + \" | \".join(headers) + \" |\\n\"\n",
        "        markdown_str += \"| \" + \" | \".join([\"---\"] * len(headers)) + \" |\\n\"\n",
        "        for i in range(matrix.rows):\n",
        "            row = [str(matrix[i, j]) for j in range(matrix.cols)]\n",
        "            markdown_str += \"| \" + \" | \".join(row) + \" |\\n\"\n",
        "        return markdown_str\n",
        "\n",
        "    def _display_equations(self):\n",
        "        equations = []\n",
        "        for i in range(self.matrix.rows):\n",
        "            terms = []\n",
        "            for j in range(self.matrix.cols):\n",
        "                coef = self.matrix[i, j]\n",
        "                var = symbols(self.column_labels[j])\n",
        "\n",
        "                # Check if the coefficient is positive, negative, or zero\n",
        "                if coef > 0:\n",
        "                    if j == 0:\n",
        "                        terms.append(f\"{latex(coef)} {latex(var)}\")\n",
        "                    else:\n",
        "                        terms.append(f\"+ {latex(coef)} {latex(var)}\")\n",
        "                elif coef < 0:\n",
        "                    terms.append(f\"- {latex(abs(coef))} {latex(var)}\")\n",
        "                elif coef == 0:\n",
        "                    if j == 0:\n",
        "                        terms.append(f\"0 {latex(var)}\")\n",
        "                    else:\n",
        "                        terms.append(f\"+0 {latex(var)}\")\n",
        "\n",
        "            lhs = \" \".join(terms)\n",
        "            rhs = latex(self.free_terms[i])\n",
        "\n",
        "            equation = f\"{lhs} = {rhs}\"\n",
        "            equations.append(equation)\n",
        "\n",
        "        display(Markdown(\"System of equations:\"))\n",
        "        display(Markdown(f\"$$\\\\begin{{aligned}} {self._equations_to_latex(equations)} \\\\end{{aligned}}$$\"))\n",
        "\n",
        "    def _equations_to_latex(self, equations):\n",
        "        return \" \\\\\\\\ \".join(equations)\n",
        "\n",
        "    def add_row(self, target_row, source_row, coefficient):\n",
        "        target_idx = self._validate_row_number(target_row)\n",
        "        source_idx = self._validate_row_number(source_row)\n",
        "\n",
        "        # Operation on the matrix\n",
        "        self.matrix.row_op(target_idx, lambda v, j: v + coefficient * self.matrix[source_idx, j])\n",
        "\n",
        "        # Operation on the free terms\n",
        "        self.free_terms[target_idx] += coefficient * self.free_terms[source_idx]\n",
        "\n",
        "        operation_str = f\"r{target_row} = r{target_row} + {coefficient}*r{source_row}\"\n",
        "        self.operations.append(operation_str)\n",
        "        display(Markdown(f\"**Operation:** {operation_str}\"))\n",
        "        self.display_matrix()\n",
        "\n",
        "    def multiply_row(self, row, coefficient):\n",
        "        row_idx = self._validate_row_number(row)\n",
        "\n",
        "        # Operation on the matrix\n",
        "        self.matrix.row_op(row_idx, lambda v, _: coefficient * v)\n",
        "\n",
        "        # Operation on the free terms\n",
        "        self.free_terms[row_idx] *= coefficient\n",
        "\n",
        "        operation_str = f\"r{row} = {coefficient}*r{row}\"\n",
        "        self.operations.append(operation_str)\n",
        "        display(Markdown(f\"**Operation:** {operation_str}\"))\n",
        "        self.display_matrix()\n",
        "\n",
        "    def swap_rows(self, row1, row2):\n",
        "        row1_idx = self._validate_row_number(row1)\n",
        "        row2_idx = self._validate_row_number(row2)\n",
        "\n",
        "        self.matrix.row_swap(row1_idx, row2_idx)\n",
        "        self.free_terms[row1_idx], self.free_terms[row2_idx] = self.free_terms[row2_idx], self.free_terms[row1_idx]\n",
        "\n",
        "        operation_str = f\"Swap r{row1} <-> r{row2}\"\n",
        "        self.operations.append(operation_str)\n",
        "        display(Markdown(f\"**Operation:** {operation_str}\"))\n",
        "        self.display_matrix()\n",
        "\n",
        "    def swap_columns(self, col1, col2):\n",
        "        col1_idx = self._validate_col_number(col1)\n",
        "        col2_idx = self._validate_col_number(col2)\n",
        "\n",
        "        self.matrix.col_swap(col1_idx, col2_idx)\n",
        "        self.column_labels[col1_idx], self.column_labels[col2_idx] = self.column_labels[col2_idx], self.column_labels[col1_idx]\n",
        "\n",
        "        operation_str = f\"Swap col{col1} <-> col{col2}\"\n",
        "        self.operations.append(operation_str)\n",
        "        display(Markdown(f\"**Operation:** {operation_str}\"))\n",
        "        self.display_matrix()\n",
        "\n",
        "    def _validate_row_number(self, row):\n",
        "        if not isinstance(row, int):\n",
        "            raise TypeError(\"Row number must be an integer.\")\n",
        "        if row < 1 or row > self.matrix.rows:\n",
        "            raise IndexError(f\"Row number must be between 1 and {self.matrix.rows}.\")\n",
        "        return row - 1\n",
        "\n",
        "    def _validate_col_number(self, col):\n",
        "        if not isinstance(col, int):\n",
        "            raise TypeError(\"Column number must be an integer.\")\n",
        "        if col < 1 or col > self.matrix.cols:\n",
        "            raise IndexError(f\"Column number must be between 1 and {self.matrix.cols}.\")\n",
        "        return col - 1\n",
        "\n",
        "    def print_operations(self):\n",
        "        display(Markdown(\"**Performed operations:**\"))\n",
        "        for op in self.operations:\n",
        "            print(op)\n",
        "\n",
        "# Example usage:\n",
        "m = SymbolicMatrix([[1,2,3], [4,5,6], [7,8,12]], column_labels=[\"x1\", \"x2\", \"x3\"], free_terms=[10, 11, 18], display_mode=\"equations\")\n"
      ]
    },
    {
      "cell_type": "code",
      "execution_count": null,
      "metadata": {
        "id": "o9EhGd_jFVif",
        "outputId": "8aee4461-504a-4ca2-fbf5-3966a1773e92"
      },
      "outputs": [
        {
          "data": {
            "text/markdown": [
              "**Operation:** r2 = r2 + -4*r1"
            ],
            "text/plain": [
              "<IPython.core.display.Markdown object>"
            ]
          },
          "metadata": {},
          "output_type": "display_data"
        },
        {
          "data": {
            "text/markdown": [
              "System of equations:"
            ],
            "text/plain": [
              "<IPython.core.display.Markdown object>"
            ]
          },
          "metadata": {},
          "output_type": "display_data"
        },
        {
          "data": {
            "text/markdown": [
              "$$\\begin{aligned} 1 x_{1} + 2 x_{2} + 3 x_{3} = 10 \\\\ 0 x_{1} - 3 x_{2} - 6 x_{3} = -29 \\\\ 7 x_{1} + 8 x_{2} + 12 x_{3} = 18 \\end{aligned}$$"
            ],
            "text/plain": [
              "<IPython.core.display.Markdown object>"
            ]
          },
          "metadata": {},
          "output_type": "display_data"
        }
      ],
      "source": [
        "m.add_row(2, 1, -4)"
      ]
    },
    {
      "cell_type": "code",
      "execution_count": null,
      "metadata": {
        "id": "f64dEjx7FVig",
        "outputId": "5c0c5f7c-abe4-4de6-f3ec-afe39769dcad"
      },
      "outputs": [
        {
          "data": {
            "text/markdown": [
              "**Operation:** r3 = r3 + -7*r1"
            ],
            "text/plain": [
              "<IPython.core.display.Markdown object>"
            ]
          },
          "metadata": {},
          "output_type": "display_data"
        },
        {
          "data": {
            "text/markdown": [
              "System of equations:"
            ],
            "text/plain": [
              "<IPython.core.display.Markdown object>"
            ]
          },
          "metadata": {},
          "output_type": "display_data"
        },
        {
          "data": {
            "text/markdown": [
              "$$\\begin{aligned} 1 x_{1} + 2 x_{2} + 3 x_{3} = 10 \\\\ 0 x_{1} - 3 x_{2} - 6 x_{3} = -29 \\\\ 0 x_{1} - 6 x_{2} - 9 x_{3} = -52 \\end{aligned}$$"
            ],
            "text/plain": [
              "<IPython.core.display.Markdown object>"
            ]
          },
          "metadata": {},
          "output_type": "display_data"
        }
      ],
      "source": [
        "m.add_row(3, 1, -7)"
      ]
    },
    {
      "cell_type": "code",
      "execution_count": null,
      "metadata": {
        "id": "2SBUEGU-FVig",
        "outputId": "d32dbd26-df47-4aad-faba-e91fab2775d2"
      },
      "outputs": [
        {
          "data": {
            "text/markdown": [
              "**Operation:** r3 = r3 + -2*r2"
            ],
            "text/plain": [
              "<IPython.core.display.Markdown object>"
            ]
          },
          "metadata": {},
          "output_type": "display_data"
        },
        {
          "data": {
            "text/markdown": [
              "System of equations:"
            ],
            "text/plain": [
              "<IPython.core.display.Markdown object>"
            ]
          },
          "metadata": {},
          "output_type": "display_data"
        },
        {
          "data": {
            "text/markdown": [
              "$$\\begin{aligned} 1 x_{1} + 2 x_{2} + 3 x_{3} = 10 \\\\ 0 x_{1} - 3 x_{2} - 6 x_{3} = -29 \\\\ 0 x_{1} +0 x_{2} + 3 x_{3} = 6 \\end{aligned}$$"
            ],
            "text/plain": [
              "<IPython.core.display.Markdown object>"
            ]
          },
          "metadata": {},
          "output_type": "display_data"
        }
      ],
      "source": [
        "m.add_row(3, 2, -2)"
      ]
    },
    {
      "cell_type": "code",
      "execution_count": null,
      "metadata": {
        "id": "VIU04QI3FVih"
      },
      "outputs": [],
      "source": [
        "# We have 3 equations, so we end the operation\n",
        "# Define symbols\n",
        "x1, x2, x3 = symbols('x1 x2 x3')\n",
        "# Define equations\n",
        "eq1 = Eq(x1 + 2*x2 + 3*x3, 10)\n",
        "eq2 = Eq(-3*x2 - 6*x3, -29)\n",
        "eq3 = Eq(3*x3, 6)"
      ]
    },
    {
      "cell_type": "code",
      "execution_count": null,
      "metadata": {
        "id": "DZEEwlc5FVih",
        "outputId": "90ce86ee-7317-4607-eabb-688fe333bcb0"
      },
      "outputs": [
        {
          "data": {
            "text/latex": [
              "$\\displaystyle 2$"
            ],
            "text/plain": [
              "2"
            ]
          },
          "execution_count": 14,
          "metadata": {},
          "output_type": "execute_result"
        }
      ],
      "source": [
        "sol_x3 = sp.solve(eq3, x3)[0]\n",
        "sol_x3"
      ]
    },
    {
      "cell_type": "code",
      "execution_count": null,
      "metadata": {
        "id": "rN_vVzfoFVih",
        "outputId": "0d0366f9-a002-4556-eea9-f738b97de88a"
      },
      "outputs": [
        {
          "data": {
            "text/latex": [
              "$\\displaystyle \\frac{17}{3}$"
            ],
            "text/plain": [
              "17/3"
            ]
          },
          "execution_count": 15,
          "metadata": {},
          "output_type": "execute_result"
        }
      ],
      "source": [
        "# Substitute solution x3 into equation 2\n",
        "eq2 = eq2.subs(x3, sol_x3)\n",
        "# Solve equation 2\n",
        "sol_x2 = sp.solve(eq2, x2)[0]\n",
        "sol_x2"
      ]
    },
    {
      "cell_type": "code",
      "execution_count": null,
      "metadata": {
        "id": "94ZchsmiFVih",
        "outputId": "a682cb1a-5669-4b41-daf4-f78b747a6770"
      },
      "outputs": [
        {
          "data": {
            "text/latex": [
              "$\\displaystyle - \\frac{22}{3}$"
            ],
            "text/plain": [
              "-22/3"
            ]
          },
          "execution_count": 16,
          "metadata": {},
          "output_type": "execute_result"
        }
      ],
      "source": [
        "# Substitute solutions x2 and x3 into equation 1\n",
        "eq1 = eq1.subs({x2: sol_x2, x3: sol_x3})\n",
        "# Solve equation 1\n",
        "sol_x1 = sp.solve(eq1, x1)[0]\n",
        "sol_x1"
      ]
    },
    {
      "cell_type": "markdown",
      "metadata": {
        "id": "8VS44FsNFVii"
      },
      "source": [
        "---\n",
        "\n",
        "## Exercises for Students\n",
        "\n",
        "$$\n",
        "\\left\\{\\begin{array}{c}{x+2 y-2 z=4} \\\\ {2 x+y+z=0} \\\\ {3 x+2 y+z=1}\\end{array}\\right.\\quad\n",
        "\\left\\{\\begin{array}{c}{x+y+z-t=2} \\\\ {2 x+y+z=3} \\\\ {-x+z-t=0} \\\\ {3 x+2 y-z+2 t=-1}\\end{array}\\right.\\quad\n",
        "\\left\\{\\begin{array}{c}{x+y-z-t=0} \\\\ {2 x+3 y-2 z+t=4} \\\\ {3 x+5 z=0} \\\\ {-x+y-3 z+2 t=3}\\end{array}\\right.\n",
        "$$"
      ]
    },
    {
      "cell_type": "markdown",
      "metadata": {
        "id": "RFEqjayHFVii"
      },
      "source": [
        "1) Given system:\n",
        "$$\n",
        "\\begin{cases}\n",
        "x + 2y - 2z = 4 \\\\\n",
        "2x + y + z = 0 \\\\\n",
        "3x + 2y + z = 1\n",
        "\\end{cases}\n",
        "$$\n",
        "\n",
        "**Steps:**\n",
        "\n",
        "1. **Write the Equations:**\n",
        "$$\n",
        "\\begin{aligned}\n",
        "1. & \\quad x + 2y - 2z = 4 \\quad \\text{(Equation 1)} \\\\\n",
        "2. & \\quad 2x + y + z = 0 \\quad \\text{(Equation 2)} \\\\\n",
        "3. & \\quad 3x + 2y + z = 1 \\quad \\text{(Equation 3)}\n",
        "\\end{aligned}\n",
        "$$\n",
        "\n",
        "2. **Use Equation 1 to Find \\(x\\):**\n",
        "$$\n",
        "x = 4 - 2y + 2z\n",
        "$$\n",
        "\n",
        "3. **Substitute This Expression into Other Equations to Find \\(y\\) and \\(z\\):**\n",
        "\n",
        "   - **Substituting into Equation 2:**\n",
        "$$\n",
        "2(4 - 2y + 2z) + y + z = 0\n",
        "$$\n",
        "$$\n",
        "8 - 4y + 4z + y + z = 0\n",
        "$$\n",
        "$$\n",
        "-3y + 5z + 8 = 0 \\quad \\Rightarrow \\quad 3y - 5z = 8 \\quad \\text{(Equation 4)}\n",
        "$$\n",
        "\n",
        "   - **Substituting into Equation 3:**\n",
        "$$\n",
        "3(4 - 2y + 2z) + 2y + z = 1\n",
        "$$\n",
        "$$\n",
        "12 - 6y + 6z + 2y + z = 1\n",
        "$$\n",
        "$$\n",
        "-4y + 7z + 12 = 1 \\quad \\Rightarrow \\quad 4y - 7z = 11 \\quad \\text{(Equation 5)}\n",
        "$$\n",
        "\n",
        "4. **Solve the New Equations:**\n",
        "$$\n",
        "\\begin{cases}\n",
        "3y - 5z = 8 \\quad \\text{(Equation 4)} \\\\\n",
        "4y - 7z = 11 \\quad \\text{(Equation 5)}\n",
        "\\end{cases}\n",
        "$$\n",
        "\n",
        "5. **Find \\(y\\) from Equation 4:**\n",
        "$$\n",
        "y = \\frac{8 + 5z}{3}\n",
        "$$\n",
        "\n",
        "6. **Substituting into Equation 5:**\n",
        "$$\n",
        "4\\left(\\frac{8 + 5z}{3}\\right) - 7z = 11\n",
        "$$\n",
        "$$\n",
        "\\frac{32 + 20z}{3} - 7z = 11\n",
        "$$\n",
        "$$\n",
        "32 + 20z - 21z = 33 \\quad \\text{(Multiply both sides by 3)}\n",
        "$$\n",
        "$$\n",
        "-z = 1 \\quad \\Rightarrow \\quad z = -1\n",
        "$$\n",
        "\n",
        "7. **Using \\(z\\) to Find \\(y\\):**\n",
        "$$\n",
        "y = \\frac{8 + 5(-1)}{3} = \\frac{8 - 5}{3} = \\frac{3}{3} = 1\n",
        "$$\n",
        "\n",
        "8. **Using \\(y\\) and \\(z\\) to Find \\(x\\):**\n",
        "$$\n",
        "x = 4 - 2(1) + 2(-1) = 4 - 2 - 2 = 0\n",
        "$$\n",
        "\n",
        "**Solution:**\n",
        "$$\n",
        "(x, y, z) = (0, 1, -1)\n",
        "$$\n"
      ]
    },
    {
      "cell_type": "markdown",
      "metadata": {
        "id": "VeR6NKKTFVii"
      },
      "source": [
        "2)\n",
        "Given system:\n",
        "$$\n",
        "\\begin{cases}\n",
        "x + y + z - t = 2 \\\\\n",
        "2x + y + z = 3 \\\\\n",
        "-x + z - t = 0 \\\\\n",
        "3x + 2y - z + 2t = -1\n",
        "\\end{cases}\n",
        "$$\n",
        "\n",
        "**Steps:**\n",
        "\n",
        "1. **Write the Equations:**\n",
        "$$\n",
        "\\begin{aligned}\n",
        "1. & \\quad x + y + z - t = 2 \\quad \\text{(Equation 1)} \\\\\n",
        "2. & \\quad 2x + y + z = 3 \\quad \\text{(Equation 2)} \\\\\n",
        "3. & \\quad -x + z - t = 0 \\quad \\text{(Equation 3)} \\\\\n",
        "4. & \\quad 3x + 2y - z + 2t = -1 \\quad \\text{(Equation 4)}\n",
        "\\end{aligned}\n",
        "$$\n",
        "\n",
        "2. **Use Equation 1 to Find \\(x\\):**\n",
        "$$\n",
        "x = 2 - y - z + t\n",
        "$$\n",
        "\n",
        "3. **Substitute This Expression into Other Equations to Find \\(y\\), \\(z\\), and \\(t\\):**\n",
        "\n",
        "   - **Substituting into Equation 2:**\n",
        "$$\n",
        "2(2 - y - z + t) + y + z = 3\n",
        "$$\n",
        "$$\n",
        "4 - 2y - 2z + 2t + y + z = 3\n",
        "$$\n",
        "$$\n",
        "-y - z + 2t = -1 \\quad \\Rightarrow \\quad y + z - 2t = 1 \\quad \\text{(Equation 5)}\n",
        "$$\n",
        "\n",
        "   - **Substituting into Equation 3:**\n",
        "$$\n",
        "-(2 - y - z + t) + z - t = 0\n",
        "$$\n",
        "$$\n",
        "-2 + y + z - t + z - t = 0\n",
        "$$\n",
        "$$\n",
        "y + 2z - 2t = 2 \\quad \\text{(Equation 6)}\n",
        "$$\n",
        "\n",
        "4. **Solve the New Equations:**\n",
        "$$\n",
        "\\begin{cases}\n",
        "y + z - 2t = 1 \\quad \\text{(Equation 5)} \\\\\n",
        "y + 2z - 2t = 2 \\quad \\text{(Equation 6)}\n",
        "\\end{cases}\n",
        "$$\n",
        "\n",
        "5. **Subtract Equation 5 from Equation 6 to Find \\(z\\):**\n",
        "$$\n",
        "(y + 2z - 2t) - (y + z - 2t) = 2 - 1\n",
        "$$\n",
        "$$\n",
        "z = 1\n",
        "$$\n",
        "\n",
        "6. **Using \\(z = 1\\) in Equation 5 to Find \\(y\\):**\n",
        "$$\n",
        "y + 1 - 2t = 1\n",
        "$$\n",
        "$$\n",
        "y = 2t\n",
        "$$\n",
        "\n",
        "7. **Using \\(y\\) and \\(z\\) in Equation 1 to Find \\(x\\):**\n",
        "$$\n",
        "x = 2 - (2t) - 1 + t\n",
        "$$\n",
        "$$\n",
        "x = 1 - t\n",
        "$$\n",
        "\n",
        "**Solution:**\n",
        "$$\n",
        "(x, y, z, t) = (1 - t, 2t, 1, t)\n",
        "$$\n"
      ]
    },
    {
      "cell_type": "markdown",
      "metadata": {
        "id": "dgYh_LiSFVii"
      },
      "source": [
        "3) Given system:\n",
        "$$\n",
        "\\begin{cases}\n",
        "x + y - z - t = 0 \\\\\n",
        "2x + 3y - 2z + t = 4 \\\\\n",
        "3x + 5z = 0 \\\\\n",
        "-x + y - 3z + 2t = 3\n",
        "\\end{cases}\n",
        "$$\n",
        "\n",
        "**Steps:**\n",
        "\n",
        "1. **Write the Equations:**\n",
        "$$\n",
        "\\begin{aligned}\n",
        "1. & \\quad x + y - z - t = 0 \\quad \\text{(Equation 1)} \\\\\n",
        "2. & \\quad 2x + 3y - 2z + t = 4 \\quad \\text{(Equation 2)} \\\\\n",
        "3. & \\quad 3x + 5z = 0 \\quad \\text{(Equation 3)} \\\\\n",
        "4. & \\quad -x + y - 3z + 2t = 3 \\quad \\text{(Equation 4)}\n",
        "\\end{aligned}\n",
        "$$\n",
        "\n",
        "2. **Use Equation 1 to Find \\(x\\):**\n",
        "$$\n",
        "x = -y + z + t\n",
        "$$\n",
        "\n",
        "3. **Substitute This Expression into Other Equations to Find \\(y\\), \\(z\\), and \\(t\\):**\n",
        "\n",
        "   - **Substituting into Equation 2:**\n",
        "$$\n",
        "2(-y + z + t) + 3y - 2z + t = 4\n",
        "$$\n",
        "$$\n",
        "-2y + 2z + 2t + 3y - 2z + t = 4\n",
        "$$\n",
        "$$\n",
        "y + 3t = 4 \\quad \\Rightarrow \\quad y = 4 - 3t \\quad \\text{(Equation 5)}\n",
        "$$\n",
        "\n",
        "   - **Substituting into Equation 3:**\n",
        "$$\n",
        "3(-y + z + t) + 5z = 0\n",
        "$$\n",
        "$$\n",
        "-3y + 3z + 3t + 5z = 0\n",
        "$$\n",
        "$$\n",
        "-3y + 8z + 3t = 0 \\quad \\Rightarrow \\quad 3y = 8z + 3t \\quad \\text{(Equation 6)}\n",
        "$$\n",
        "\n",
        "4. **Substitute \\(y = 4 - 3t\\) into Equation 6 to Find \\(z\\):**\n",
        "$$\n",
        "3(4 - 3t) = 8z + 3t\n",
        "$$\n",
        "$$\n",
        "12 - 9t = 8z + 3t\n",
        "$$\n",
        "$$\n",
        "12 = 8z + 12t\n",
        "$$\n",
        "\n"
      ]
    },
    {
      "cell_type": "code",
      "source": [],
      "metadata": {
        "id": "KsaarzhQRxuy"
      },
      "execution_count": null,
      "outputs": []
    }
  ],
  "metadata": {
    "kernelspec": {
      "display_name": ".venv",
      "language": "python",
      "name": "python3"
    },
    "language_info": {
      "codemirror_mode": {
        "name": "ipython",
        "version": 3
      },
      "file_extension": ".py",
      "mimetype": "text/x-python",
      "name": "python",
      "nbconvert_exporter": "python",
      "pygments_lexer": "ipython3",
      "version": "3.11.9"
    },
    "colab": {
      "provenance": []
    }
  },
  "nbformat": 4,
  "nbformat_minor": 0
}