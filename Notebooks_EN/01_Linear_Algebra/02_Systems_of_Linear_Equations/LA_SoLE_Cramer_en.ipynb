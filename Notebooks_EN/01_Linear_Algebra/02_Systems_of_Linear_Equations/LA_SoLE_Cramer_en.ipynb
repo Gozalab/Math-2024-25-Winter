{
  "cells": [
    {
      "cell_type": "markdown",
      "metadata": {
        "id": "qfnB2P8KxUun"
      },
      "source": [
        "# Cramer's Rule - Examples for 2x2, 3x3, and 4x4 Systems\n",
        "\n",
        "Cramer's rule is used only when the number of equations is equal to the number of unknowns. In other words, the coefficient matrix must be a square matrix.\n",
        "\n",
        "**These formulas are used only** when the **determinant** of the coefficient matrix is **non-zero**. Otherwise, the system of equations is either inconsistent or indeterminate.\n",
        "\n",
        "## 2x2 System of Equations\n",
        "\n",
        "Consider a system of two equations with two unknowns:\n",
        "\n",
        "$$\n",
        "\\begin{cases}\n",
        "a_{11}x_1 + a_{12}x_2 = b_1 \\\\\n",
        "a_{21}x_1 + a_{22}x_2 = b_2\n",
        "\\end{cases}\n",
        "$$\n",
        "\n",
        "Cramer's rule for the unknowns $ x_1 $ and $ x_2 $ is as follows:\n",
        "\n",
        "$$\n",
        "x_1 = \\frac{\\det(A_1)}{\\det(A)} \\quad \\text{and} \\quad x_2 = \\frac{\\det(A_2)}{\\det(A)}\n",
        "$$\n",
        "\n",
        "Where:\n",
        "\n",
        "$$\n",
        "\\det(A) =\n",
        "\\begin{vmatrix}\n",
        "a_{11} & a_{12} \\\\\n",
        "a_{21} & a_{22}\n",
        "\\end{vmatrix}\n",
        "= a_{11}a_{22} - a_{12}a_{21}\n",
        "$$\n",
        "\n",
        "$$\n",
        "\\det(A_1) =\n",
        "\\begin{vmatrix}\n",
        "b_1 & a_{12} \\\\\n",
        "b_2 & a_{22}\n",
        "\\end{vmatrix}\n",
        "= b_1a_{22} - a_{12}b_2\n",
        "$$\n",
        "\n",
        "$$\n",
        "\\det(A_2) =\n",
        "\\begin{vmatrix}\n",
        "a_{11} & b_1 \\\\\n",
        "a_{21} & b_2\n",
        "\\end{vmatrix}\n",
        "= a_{11}b_2 - b_1a_{21}\n",
        "$$\n",
        "\n",
        "## 3x3 System of Equations\n",
        "\n",
        "Consider a system of three equations with three unknowns:\n",
        "\n",
        "$$\n",
        "\\begin{cases}\n",
        "a_{11}x_1 + a_{12}x_2 + a_{13}x_3 = b_1 \\\\\n",
        "a_{21}x_1 + a_{22}x_2 + a_{23}x_3 = b_2 \\\\\n",
        "a_{31}x_1 + a_{32}x_2 + a_{33}x_3 = b_3\n",
        "\\end{cases}\n",
        "$$\n",
        "\n",
        "Cramer's rule for $ x_1 $, $ x_2 $, and $ x_3 $:\n",
        "\n",
        "$$\n",
        "x_1 = \\frac{\\det(A_1)}{\\det(A)} \\quad x_2 = \\frac{\\det(A_2)}{\\det(A)} \\quad x_3 = \\frac{\\det(A_3)}{\\det(A)}\n",
        "$$\n",
        "\n",
        "Where:\n",
        "\n",
        "$$\n",
        "\\det(A) =\n",
        "\\begin{vmatrix}\n",
        "a_{11} & a_{12} & a_{13} \\\\\n",
        "a_{21} & a_{22} & a_{23} \\\\\n",
        "a_{31} & a_{32} & a_{33}\n",
        "\\end{vmatrix}\n",
        "$$\n",
        "\n",
        "$$\n",
        "\\det(A_1) =\n",
        "\\begin{vmatrix}\n",
        "b_1 & a_{12} & a_{13} \\\\\n",
        "b_2 & a_{22} & a_{23} \\\\\n",
        "b_3 & a_{32} & a_{33}\n",
        "\\end{vmatrix}\n",
        "$$\n",
        "\n",
        "$$\n",
        "\\det(A_2) =\n",
        "\\begin{vmatrix}\n",
        "a_{11} & b_1 & a_{13} \\\\\n",
        "a_{21} & b_2 & a_{23} \\\\\n",
        "a_{31} & b_3 & a_{33}\n",
        "\\end{vmatrix}\n",
        "$$\n",
        "\n",
        "$$\n",
        "\\det(A_3) =\n",
        "\\begin{vmatrix}\n",
        "a_{11} & a_{12} & b_1 \\\\\n",
        "a_{21} & a_{22} & b_2 \\\\\n",
        "a_{31} & a_{32} & b_3\n",
        "\\end{vmatrix}\n",
        "$$\n",
        "\n",
        "## 4x4 System of Equations\n",
        "\n",
        "Consider a system of four equations with four unknowns:\n",
        "\n",
        "$$\n",
        "\\begin{cases}\n",
        "a_{11}x_1 + a_{12}x_2 + a_{13}x_3 + a_{14}x_4 = b_1 \\\\\n",
        "a_{21}x_1 + a_{22}x_2 + a_{23}x_3 + a_{24}x_4 = b_2 \\\\\n",
        "a_{31}x_1 + a_{32}x_2 + a_{33}x_3 + a_{34}x_4 = b_3 \\\\\n",
        "a_{41}x_1 + a_{42}x_2 + a_{43}x_3 + a_{44}x_4 = b_4\n",
        "\\end{cases}\n",
        "$$\n",
        "\n",
        "Cramer's rule for $ x_1 $, $ x_2 $, $ x_3 $, and $ x_4 $:\n",
        "\n",
        "$$\n",
        "x_1 = \\frac{\\det(A_1)}{\\det(A)} \\quad x_2 = \\frac{\\det(A_2)}{\\det(A)} \\quad x_3 = \\frac{\\det(A_3)}{\\det(A)} \\quad x_4 = \\frac{\\det(A_4)}{\\det(A)}\n",
        "$$\n",
        "\n",
        "Where:\n",
        "\n",
        "$$\n",
        "\\det(A) =\n",
        "\\begin{vmatrix}\n",
        "a_{11} & a_{12} & a_{13} & a_{14} \\\\\n",
        "a_{21} & a_{22} & a_{23} & a_{24} \\\\\n",
        "a_{31} & a_{32} & a_{33} & a_{34} \\\\\n",
        "a_{41} & a_{42} & a_{43} & a_{44}\n",
        "\\end{vmatrix}\n",
        "$$\n",
        "\n",
        "$$\n",
        "\\det(A_1) =\n",
        "\\begin{vmatrix}\n",
        "b_1 & a_{12} & a_{13} & a_{14} \\\\\n",
        "b_2 & a_{22} & a_{23} & a_{24} \\\\\n",
        "b_3 & a_{32} & a_{33} & a_{34} \\\\\n",
        "b_4 & a_{42} & a_{43} & a_{44}\n",
        "\\end{vmatrix}\n",
        "$$\n",
        "\n",
        "$$\n",
        "\\det(A_2) =\n",
        "\\begin{vmatrix}\n",
        "a_{11} & b_1 & a_{13} & a_{14} \\\\\n",
        "a_{21} & b_2 & a_{23} & a_{24} \\\\\n",
        "a_{31} & b_3 & a_{33} & a_{34} \\\\\n",
        "a_{41} & b_4 & a_{43} & a_{44}\n",
        "\\end{vmatrix}\n",
        "$$\n",
        "\n",
        "$$\n",
        "\\det(A_3) =\n",
        "\\begin{vmatrix}\n",
        "a_{11} & a_{12} & b_1 & a_{14} \\\\\n",
        "a_{21} & a_{22} & b_2 & a_{24} \\\\\n",
        "a_{31} & a_{32} & b_3 & a_{34} \\\\\n",
        "a_{41} & a_{42} & b_4 & a_{44}\n",
        "\\end{vmatrix}\n",
        "$$\n",
        "\n",
        "$$\n",
        "\\det(A_4) =\n",
        "\\begin{vmatrix}\n",
        "a_{11} & a_{12} & a_{13} & b_1 \\\\\n",
        "a_{21} & a_{22} & a_{23} & b_2 \\\\\n",
        "a_{31} & a_{32} & a_{33} & b_3 \\\\\n",
        "a_{41} & a_{42} & a_{43} & b_4\n",
        "\\end{vmatrix}\n",
        "$$\n",
        "\n",
        "## Example"
      ]
    },
    {
      "cell_type": "code",
      "execution_count": null,
      "metadata": {
        "id": "iagJnD2fxUup"
      },
      "outputs": [],
      "source": [
        "import sympy as sp\n",
        "\n",
        "# Define symbols\n",
        "x, y, z = sp.symbols('x y z')\n",
        "\n",
        "# Define the system of equations\n",
        "eq1 = sp.Eq(2*x + 3*y + z, 1)\n",
        "eq2 = sp.Eq(3*x + 2*y + 2*z, 2)\n",
        "eq3 = sp.Eq(x + y + z, 3)\n",
        "\n",
        "# Coefficient matrix of the system\n",
        "A = sp.Matrix([[2, 3, 1], [3, 2, 2], [1, 1, 1]])\n",
        "# Free terms vector\n",
        "b = sp.Matrix([1, 2, 3])"
      ]
    },
    {
      "cell_type": "code",
      "execution_count": null,
      "metadata": {
        "id": "0OBR-MRyxUus",
        "outputId": "f870a373-8a3c-419a-a13a-f262d1d2f929"
      },
      "outputs": [
        {
          "data": {
            "text/latex": [
              "$\\displaystyle \\left[\\begin{matrix}2 & 3 & 1\\\\3 & 2 & 2\\\\1 & 1 & 1\\end{matrix}\\right]$"
            ],
            "text/plain": [
              "Matrix([\n",
              "[2, 3, 1],\n",
              "[3, 2, 2],\n",
              "[1, 1, 1]])"
            ]
          },
          "execution_count": 2,
          "metadata": {},
          "output_type": "execute_result"
        }
      ],
      "source": [
        "A"
      ]
    },
    {
      "cell_type": "code",
      "execution_count": null,
      "metadata": {
        "id": "0sKuw-HPxUuu",
        "outputId": "c9de8901-0fc5-4cbf-fa89-4c965fc3c3b2"
      },
      "outputs": [
        {
          "data": {
            "text/latex": [
              "$\\displaystyle \\left[\\begin{matrix}1\\\\2\\\\3\\end{matrix}\\right]$"
            ],
            "text/plain": [
              "Matrix([\n",
              "[1],\n",
              "[2],\n",
              "[3]])"
            ]
          },
          "execution_count": 3,
          "metadata": {},
          "output_type": "execute_result"
        }
      ],
      "source": [
        "b"
      ]
    },
    {
      "cell_type": "code",
      "execution_count": null,
      "metadata": {
        "id": "89_2EYpRxUuu",
        "outputId": "dbf6b4da-18e1-48fc-ce68-0f1a3ed12945"
      },
      "outputs": [
        {
          "data": {
            "text/latex": [
              "$\\displaystyle \\left[\\begin{matrix}1 & 3 & 1\\\\2 & 2 & 2\\\\3 & 1 & 1\\end{matrix}\\right]$"
            ],
            "text/plain": [
              "Matrix([\n",
              "[1, 3, 1],\n",
              "[2, 2, 2],\n",
              "[3, 1, 1]])"
            ]
          },
          "execution_count": 4,
          "metadata": {},
          "output_type": "execute_result"
        }
      ],
      "source": [
        "# Define matrix A_1\n",
        "A_1 = A.copy() # Copy matrix A\n",
        "A_1[:, 0] = b # Replace the first column of A with vector b\n",
        "A_1 # Check if the replacement was successful"
      ]
    },
    {
      "cell_type": "code",
      "execution_count": null,
      "metadata": {
        "id": "JTN4cYhVxUuu",
        "outputId": "ec48b946-5dd5-490c-cba8-c8a273997ac7"
      },
      "outputs": [
        {
          "data": {
            "text/latex": [
              "$\\displaystyle -4$"
            ],
            "text/plain": [
              "-4"
            ]
          },
          "execution_count": 5,
          "metadata": {},
          "output_type": "execute_result"
        }
      ],
      "source": [
        "det_A_1 = A_1.det() # Calculate determinant of A_1\n",
        "sol_x = det_A_1 / A.det() # Calculate x_1\n",
        "sol_x # Calculated value of x_1"
      ]
    },
    {
      "cell_type": "code",
      "execution_count": null,
      "metadata": {
        "id": "e_n9NGInxUuv",
        "outputId": "3ad4cc1a-6fac-4633-b3d9-4404c15777c9"
      },
      "outputs": [
        {
          "data": {
            "text/latex": [
              "$\\displaystyle \\left[\\begin{matrix}2 & 1 & 1\\\\3 & 2 & 2\\\\1 & 3 & 1\\end{matrix}\\right]$"
            ],
            "text/plain": [
              "Matrix([\n",
              "[2, 1, 1],\n",
              "[3, 2, 2],\n",
              "[1, 3, 1]])"
            ]
          },
          "execution_count": 6,
          "metadata": {},
          "output_type": "execute_result"
        }
      ],
      "source": [
        "# Similarly for y\n",
        "A_2 = A.copy()\n",
        "A_2[:, 1] = b\n",
        "A_2 # Check if the replacement was successful"
      ]
    },
    {
      "cell_type": "code",
      "execution_count": null,
      "metadata": {
        "id": "ZTeV_soJxUuv",
        "outputId": "36b42c12-8a27-4225-fb61-d4526b09e3ce"
      },
      "outputs": [
        {
          "data": {
            "text/latex": [
              "$\\displaystyle 1$"
            ],
            "text/plain": [
              "1"
            ]
          },
          "execution_count": 7,
          "metadata": {},
          "output_type": "execute_result"
        }
      ],
      "source": [
        "det_A_2 = A_2.det()\n",
        "sol_y = det_A_2 / A.det()\n",
        "sol_y"
      ]
    },
    {
      "cell_type": "code",
      "execution_count": null,
      "metadata": {
        "id": "qN12s5bCxUuv",
        "outputId": "d157c165-0e5f-4438-bc1e-03422bfdfea2"
      },
      "outputs": [
        {
          "data": {
            "text/latex": [
              "$\\displaystyle 6$"
            ],
            "text/plain": [
              "6"
            ]
          },
          "execution_count": 8,
          "metadata": {},
          "output_type": "execute_result"
        }
      ],
      "source": [
        "# Finally for z\n",
        "A_3 = A.copy()\n",
        "A_3[:, 2] = b\n",
        "det_A_3 = A_3.det()\n",
        "sol_z = det_A_3 / A.det()\n",
        "sol_z"
      ]
    },
    {
      "cell_type": "code",
      "execution_count": null,
      "metadata": {
        "id": "HasQJVTVxUuv",
        "outputId": "31b14efd-47a4-43ac-f586-413c3d73bccc"
      },
      "outputs": [
        {
          "data": {
            "text/plain": [
              "{x: -4, y: 1, z: 6}"
            ]
          },
          "execution_count": 9,
          "metadata": {},
          "output_type": "execute_result"
        }
      ],
      "source": [
        "# Solve the system of equations\n",
        "sp.solve((eq1, eq2, eq3), (x, y, z))"
      ]
    },
    {
      "cell_type": "markdown",
      "metadata": {
        "id": "T-RT8HQAxUuv"
      },
      "source": [
        "---\n",
        "\n",
        "## Exercises for Students\n",
        "\n",
        "1. Solve the system of equations:\n",
        "   $$\n",
        "   \\begin{cases}\n",
        "   2x_1 - 3x_2 = 7 \\\\\n",
        "   3x_1 + 5x_2 = 2\n",
        "   \\end{cases}\n",
        "   $$\n",
        "\n",
        "2. Solve the system of equations:\n",
        "   $$\n",
        "   \\begin{cases}\n",
        "   2x + y - z = 1 \\\\\n",
        "   x - y + 2z = 4 \\\\\n",
        "   3x - 2z = -1\n",
        "   \\end{cases}\n",
        "   $$\n",
        "\n",
        "3. Solve the system of equations:\n",
        "   $$\n",
        "   \\begin{cases}\n",
        "   x + y + z - t = 2 \\\\\n",
        "   x - z + 2t = 6 \\\\\n",
        "   2x - 3y + t = 4 \\\\\n",
        "   3x + y + 3z - 4t = -2\n",
        "   \\end{cases}\n",
        "   $$\n",
        "\n",
        "4. Why can't the following system of equations be solved using Cramer's rule?\n",
        "$$\n",
        "\\begin{cases}\n",
        "x_1 + 2x_2 + 3x_3 = 3 \\\\\n",
        "4x_1 + 5x_2 + 6x_3 = 2 \\\\\n",
        "7x_1 + 8x_2 + 9x_3 = 1\n",
        "\\end{cases}\n",
        "$$"
      ]
    },
    {
      "cell_type": "markdown",
      "source": [
        "1)\n",
        "$\n",
        " \\begin{cases}\n",
        "2x_1 - 3x_2 = 7 \\\\\n",
        "3x_1 + 5x_2 = 2\n",
        "\\end{cases}\n",
        "$\n",
        "\n",
        "$\n",
        "3 \\cdot (2x_1 - 3x_2) = 3 \\cdot 7 \\Rightarrow 6x_1 - 9x_2 = 21 $\n",
        "\n",
        "$2 \\cdot (3x_1 + 5x_2) = 2 \\cdot 2 \\Rightarrow 6x_1 + 10x_2 = 4\n",
        "$\n",
        "\n",
        "$(6x_1 - 9x_2) - (6x_1 + 10x_2) = 21 - 4\n",
        "$\n",
        "\n",
        "$ -19x_2 = 17 \\Rightarrow x_2 = -\\frac{17}{19} $\n",
        "\n",
        "$ 2x_1 - 3\\left(-\\frac{17}{19}\\right) = 7\n",
        "$\n",
        "\n",
        "$ 2x_1 + \\frac{51}{19} = 7 \\Rightarrow 2x_1 = 7 - \\frac{51}{19} $\n",
        "\n",
        "$ x_1 = \\frac{-\\frac{34}{19}}{2} \\Rightarrow x_1 = -... $\n",
        "\n"
      ],
      "metadata": {
        "id": "9KKKobfey7R1"
      }
    },
    {
      "cell_type": "markdown",
      "source": [
        "2)\n",
        "\n",
        "$\n",
        "\\begin{cases}\n",
        "2x + y - z = 1 \\\\\n",
        "x - y + 2z = 4 \\\\\n",
        "3x - 2z = -1\n",
        "\\end{cases}\n",
        "$\n",
        "\n",
        "$ x = y - 2z + 4\n",
        "$\n",
        "\n",
        "$2(y - 2z + 4) + y - z = 1\n",
        "$\n",
        "\n",
        "$ 2y - 4z + 8 + y - z = 1 $\n",
        "\n",
        "$3y - 5z = -7\n",
        "$\n",
        "\n",
        "$ 3(y - 2z + 4) - 2z = -1 $\n",
        "\n",
        "$3y - 6z + 12 - 2z = -1\n",
        "$\n",
        "\n",
        "$ 3y - 8z = -13 $\n",
        "\n",
        "$\n",
        "\\begin{cases}\n",
        "3y - 5z = -7 \\\\\n",
        "3y - 8z = -13\n",
        "\\end{cases}\n",
        "$\n",
        "\n",
        "$(3y - 5z) - (3y - 8z) = -7 - (-13)\n",
        "$\n",
        "\n",
        "$ 3z = 6 \\Rightarrow z = 2 $\n",
        "\n",
        "$ 3y - 5(2) = -7 $\n",
        "\n",
        "$3y - 10 = -7 \\Rightarrow 3y = 3 \\Rightarrow y = 1\n",
        "$\n",
        "\n",
        "$x = 1 - 2(2) + 4\n",
        "$\n",
        "\n",
        "$ x = 1 - 4 + 4 = 1 $\n",
        "\n",
        "$(x, y, z) = (1, 1, 2)\n",
        "$\n",
        "\n",
        "\n",
        "\n",
        "\n",
        "\n"
      ],
      "metadata": {
        "id": "AjDevM2U1J8c"
      }
    },
    {
      "cell_type": "markdown",
      "source": [
        "3)\n",
        "\n",
        "$\\begin{cases}\n",
        "x + y + z - t = 2 \\\\\n",
        "x - z + 2t = 6 \\\\\n",
        "2x - 3y + t = 4 \\\\\n",
        "3x + y + 3z - 4t = -2\n",
        "\\end{cases}\n",
        "$\n",
        "\n",
        "$x = 2 - y - z + t\n",
        "$\n",
        "\n",
        "$(2 - y - z + t) - z + 2t = 6\n",
        "$\n",
        "\n",
        "$2 - y - 2z + 3t = 6\n",
        "$\n",
        "\n",
        "$ -y - 2z + 3t = 4 \\quad \\Rightarrow \\quad y + 2z - 3t = -4\n",
        "$\n",
        "\n",
        "$2(2 - y - z + t) - 3y + t = 4\n",
        "$\n",
        "\n",
        "$ 4 - 2y - 2z + 2t - 3y + t = 4\n",
        "$\n",
        "\n",
        "$-5y - 2z + 3t = 0\n",
        "$\n",
        "\n",
        "$3(2 - y - z + t) + y + 3z - 4t = -2\n",
        "$\n",
        "\n",
        "$ 6 - 3y - 3z + 3t + y + 3z - 4t = -2\n",
        "$\n",
        "\n",
        "$-2y - t = -8 \\quad \\Rightarrow \\quad 2y + t = 8\n",
        "$\n",
        "\n",
        "$ \\begin{cases}\n",
        "y + 2z - 3t = -4 \\\\\n",
        "-5y - 2z + 3t = 0 \\\\\n",
        "2y + t = 8\n",
        "\\end{cases}\n",
        "$\n",
        "\n",
        "$ t = 8 - 2y\n",
        "$\n",
        "\n",
        "$ y + 2z - 3(8 - 2y) = -4\n",
        "$\n",
        "\n",
        "$ y + 2z - 24 + 6y = -4\n",
        "$\n",
        "\n",
        "$\n",
        "7y + 2z = 20\n",
        "$\n",
        "\n",
        "$\n",
        "-5y - 2z + 3(8 - 2y) = 0\n",
        "$\n",
        "\n",
        "$\n",
        "-5y - 2z + 24 - 6y = 0\n",
        "$\n",
        "\n",
        "$\n",
        "-11y - 2z = -24 \\quad \\Rightarrow \\quad 11y + 2z = 24\n",
        "$\n",
        "\n",
        "$\n",
        "\\begin{cases}\n",
        "7y + 2z = 20 \\\\\n",
        "11y + 2z = 24\n",
        "\\end{cases}\n",
        "$\n",
        "\n",
        "$\n",
        "(11y + 2z) - (7y + 2z) = 24 - 20\n",
        "$\n",
        "\n",
        "$\n",
        "4y = 4 \\Rightarrow y = 1\n",
        "$\n",
        "\n",
        "$\n",
        "t = 8 - 2(1) = 6\n",
        "$\n",
        "\n",
        "$\n",
        "7(1) + 2z = 20\n",
        "$\n",
        "\n",
        "$\n",
        "7 + 2z = 20 \\Rightarrow 2z = 13 \\Rightarrow z = \\frac{13}{2} = 6.5\n",
        "$\n",
        "\n",
        "\n",
        "$ x = 2 - 1 - 6.5 + 6\n",
        "$\n",
        "\n",
        "$\n",
        "x = 0.5\n",
        "$\n",
        "\n",
        "$\n",
        "(x, y, z, t) = (0.5, 1, 6.5, 6)\n",
        "$"
      ],
      "metadata": {
        "id": "-_W7-IJ85nnG"
      }
    },
    {
      "cell_type": "markdown",
      "source": [
        "4)\n",
        "\n",
        "$\n",
        "\\begin{cases}\n",
        "x_1 + 2x_2 + 3x_3 = 3 \\\\\n",
        "4x_1 + 5x_2 + 6x_3 = 2 \\\\\n",
        "7x_1 + 8x_2 + 9x_3 = 1\n",
        "\\end{cases}\n",
        "$\n",
        "\n",
        "$\n",
        "A = \\begin{bmatrix}\n",
        "1 & 2 & 3 \\\\\n",
        "4 & 5 & 6 \\\\\n",
        "7 & 8 & 9\n",
        "\\end{bmatrix}\n",
        "$\n",
        "\n",
        "$\n",
        "\\text{det}(A) = 1 \\cdot (5 \\cdot 9 - 6 \\cdot 8) - 2 \\cdot (4 \\cdot 9 - 6 \\cdot 7) + 3 \\cdot (4 \\cdot 8 - 5 \\cdot 7)\n",
        "$\n",
        "\n",
        "$ = 1 \\cdot (45 - 48) - 2 \\cdot (36 - 42) + 3 \\cdot (32 - 35)\n",
        "$\n",
        "\n",
        "$= 1 \\cdot (-3) - 2 \\cdot (-6) + 3 \\cdot (-3)\n",
        "$\n",
        "\n",
        "$ = -3 + 12 - 9 = 0\n",
        "$\n",
        "\n",
        "The determinant of the coefficient matrix is zero, so Cramer's rule cannot be applied to this system. This situation indicates that the equations are linearly dependent, resulting in either infinitely many solutions or no solution at all."
      ],
      "metadata": {
        "id": "hTUm4Ccb-c-3"
      }
    },
    {
      "cell_type": "code",
      "source": [],
      "metadata": {
        "id": "NDVg4RLIy6uV"
      },
      "execution_count": null,
      "outputs": []
    }
  ],
  "metadata": {
    "kernelspec": {
      "display_name": "Python 3",
      "language": "python",
      "name": "python3"
    },
    "language_info": {
      "codemirror_mode": {
        "name": "ipython",
        "version": 3
      },
      "file_extension": ".py",
      "mimetype": "text/x-python",
      "name": "python",
      "nbconvert_exporter": "python",
      "pygments_lexer": "ipython3",
      "version": "3.11.9"
    },
    "colab": {
      "provenance": []
    }
  },
  "nbformat": 4,
  "nbformat_minor": 0
}