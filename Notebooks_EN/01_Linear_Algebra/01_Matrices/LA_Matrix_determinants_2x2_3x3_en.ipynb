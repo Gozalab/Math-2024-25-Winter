{
  "cells": [
    {
      "cell_type": "markdown",
      "metadata": {
        "id": "PjhMzdN8fX9b"
      },
      "source": [
        "# Determinants of 2x2 and 3x3 matrices\n",
        "\n",
        "### Determinant of a 2x2 Matrix\n",
        "\n",
        "The general formula for the determinant of a 2x2 matrix, where the matrix looks as follows:\n",
        "\n",
        "$$\n",
        "\\mathbf{A} =\n",
        "\\begin{pmatrix}\n",
        "a_{11} & a_{12} \\\\\n",
        "a_{21} & a_{22}\n",
        "\\end{pmatrix}\n",
        "$$\n",
        "\n",
        "The determinant of a 2x2 matrix is calculated using the formula:\n",
        "\n",
        "$$\n",
        "\\text{det}(A) = a_{11} \\cdot a_{22} - a_{12} \\cdot a_{21}\n",
        "$$\n",
        "\n",
        "### Determinant of a 3x3 Matrix\n",
        "\n",
        "The general formula for the determinant of a 3x3 matrix, where the matrix looks as follows:\n",
        "\n",
        "$$\n",
        "\\mathbf{B} =\n",
        "\\begin{pmatrix}\n",
        "a_{11} & a_{12} & a_{13} \\\\\n",
        "a_{21} & a_{22} & a_{23} \\\\\n",
        "a_{31} & a_{32} & a_{33}\n",
        "\\end{pmatrix}\n",
        "$$\n",
        "\n",
        "The determinant of a 3x3 matrix can be calculated using Sarrus' rule or Laplace expansion. Here, we will use Sarrus' rule:\n",
        "\n",
        "$$\n",
        "\\text{det}(B) = a_{11} \\cdot a_{22} \\cdot a_{33} + a_{12} \\cdot a_{23} \\cdot a_{31} + a_{13} \\cdot a_{21} \\cdot a_{32}\n",
        "- a_{13} \\cdot a_{22} \\cdot a_{31} - a_{12} \\cdot a_{21} \\cdot a_{33} - a_{11} \\cdot a_{23} \\cdot a_{32}\n",
        "$$\n",
        "\n",
        "<img src=\"https://upload.wikimedia.org/wikipedia/commons/c/c0/Sarrus_rule1.svg\" alt=\"Image description\" width=\"300\" align=\"center\"/>\n",
        "\n",
        "Note: Sarrus' rule does not work for matrices larger than 3x3.\n",
        "\n",
        "### Calculating Determinants in Python using SymPy\n",
        "\n",
        "Now, using the SymPy library, we will calculate the determinants for 2x2 and 3x3 matrices."
      ]
    },
    {
      "cell_type": "code",
      "execution_count": null,
      "metadata": {
        "id": "yxanzTttfX9c",
        "outputId": "5fd5e3c3-1e93-4e54-a2f1-97e0670bcbf3"
      },
      "outputs": [
        {
          "data": {
            "text/latex": [
              "$\\displaystyle \\left[\\begin{matrix}2 & 3\\\\1 & 4\\end{matrix}\\right]$"
            ],
            "text/plain": [
              "Matrix([\n",
              "[2, 3],\n",
              "[1, 4]])"
            ]
          },
          "execution_count": 1,
          "metadata": {},
          "output_type": "execute_result"
        }
      ],
      "source": [
        "import sympy as sp\n",
        "\n",
        "# Define the matrix\n",
        "A = sp.Matrix([[2, 3], [1, 4]])\n",
        "A # display the matrix"
      ]
    },
    {
      "cell_type": "code",
      "execution_count": null,
      "metadata": {
        "notebookRunGroups": {
          "groupValue": "2"
        },
        "id": "zmdBbkNcfX9d",
        "outputId": "44fc97ba-add3-45fd-c987-163b1b6c5003"
      },
      "outputs": [
        {
          "data": {
            "text/plain": [
              "True"
            ]
          },
          "execution_count": 2,
          "metadata": {},
          "output_type": "execute_result"
        }
      ],
      "source": [
        "# Verify the correctness of the calculations\n",
        "(2*4 - 3*1) == A.det()"
      ]
    },
    {
      "cell_type": "code",
      "execution_count": null,
      "metadata": {
        "id": "xuRl7cvrfX9e",
        "outputId": "2f40273a-ac99-4dc8-8f32-ea576c119280"
      },
      "outputs": [
        {
          "data": {
            "text/latex": [
              "$\\displaystyle \\left[\\begin{matrix}2 & 3 & 1\\\\1 & 4 & 5\\\\3 & 2 & 1\\end{matrix}\\right]$"
            ],
            "text/plain": [
              "Matrix([\n",
              "[2, 3, 1],\n",
              "[1, 4, 5],\n",
              "[3, 2, 1]])"
            ]
          },
          "execution_count": 3,
          "metadata": {},
          "output_type": "execute_result"
        }
      ],
      "source": [
        "# 3x3 Matrix\n",
        "B = sp.Matrix([[2, 3, 1], [1, 4, 5], [3, 2, 1]])\n",
        "B"
      ]
    },
    {
      "cell_type": "code",
      "execution_count": null,
      "metadata": {
        "id": "6TVmG-sYfX9e",
        "outputId": "a313f975-0170-48ce-bece-54a6c8c544e0"
      },
      "outputs": [
        {
          "data": {
            "text/plain": [
              "True"
            ]
          },
          "execution_count": 4,
          "metadata": {},
          "output_type": "execute_result"
        }
      ],
      "source": [
        "# Verify the correctness of the calculations\n",
        "(2*4*1 + 3*5*3 + 1*1*2 - 1*4*3 - 5*2*2 - 3*1*1) == B.det()"
      ]
    },
    {
      "cell_type": "markdown",
      "metadata": {
        "id": "sma4oESNfX9e"
      },
      "source": [
        "---\n",
        "\n",
        "## Exercises for Students\n",
        "\n",
        "Calculate the determinants for the 2x2 and 3x3 matrices given below.\n",
        "\n",
        "1. 2x2 Matrices:\n",
        "\n",
        "$$\n",
        "\\mathbf{A} =\n",
        "\\begin{pmatrix}\n",
        "2 & 3 \\\\\n",
        "1 & 4\n",
        "\\end{pmatrix}\n",
        ", \\qquad\n",
        "\\mathbf{B} =\n",
        "\\begin{pmatrix}\n",
        "5 & 6 \\\\\n",
        "7 & 8\n",
        "\\end{pmatrix}\n",
        ", \\qquad\n",
        "\\mathbf{C} =\n",
        "\\begin{pmatrix}\n",
        "-1 & 2 \\\\\n",
        "3 & 0\n",
        "\\end{pmatrix}\n",
        "$$\n",
        "\n",
        "2. 3x3 Matrices:\n",
        "\n",
        "\n",
        "$$\n",
        "\\mathbf{D} =\n",
        "\\begin{pmatrix}\n",
        "1 & 0 & 2 \\\\\n",
        "-1 & 3 & 1 \\\\\n",
        "2 & 4 & -2\n",
        "\\end{pmatrix}\n",
        ", \\qquad\n",
        "\\mathbf{E} =\n",
        "\\begin{pmatrix}\n",
        "3 & 1 & -1 \\\\\n",
        "0 & 2 & 4 \\\\\n",
        "5 & 3 & 2\n",
        "\\end{pmatrix}\n",
        ", \\qquad\n",
        "\\mathbf{F} =\n",
        "\\begin{pmatrix}\n",
        "2 & -3 & 1 \\\\\n",
        "1 & 4 & -2 \\\\\n",
        "1 & 5 & 3\n",
        "\\end{pmatrix}\n",
        "$$"
      ]
    },
    {
      "cell_type": "markdown",
      "source": [
        "1)\n",
        "\n",
        "$$A = \\begin{pmatrix} 2 & 3 \\\\ 1 & 4 \\end{pmatrix} $$\n",
        "\n",
        "$$ \\text{det}(A) = 2 \\cdot 4 - 3 \\cdot 1 = 8 - 3 = 5. $$\n",
        "\n",
        "\n",
        "$$ B = \\begin{pmatrix} 5 & 6 \\\\ 7 & 8 \\end{pmatrix} $$\n",
        "\n",
        "$$ \\text{det}(B) = 5 \\cdot 8 - 6 \\cdot 7 = 40 - 42 = -2. $$\n",
        "\n",
        "$$ C= \\begin{pmatrix} -1 & 2 \\\\ 3 & 0 \\end{pmatrix}$$\n",
        "\n",
        "$$\\text{det}(C) = (-1) \\cdot 0 - 2 \\cdot 3 = 0 - 6 = -6.$$\n",
        "\n",
        "2)\n",
        "\n",
        "\n",
        "$D = \\begin{pmatrix} 1 & 0 & 2 \\\\ -1 & 3 & 1 \\\\ 2 & 4 & -2 \\end{pmatrix}$\n",
        "\n",
        "$\\text{det}(D) = 1 \\cdot \\begin{vmatrix} 3 & 1 \\\\ 4 & -2 \\end{vmatrix} - 0 \\cdot \\begin{vmatrix} -1 & 1 \\\\ 2 & -2 \\end{vmatrix} + 2 \\cdot \\begin{vmatrix} -1 & 3 \\\\ 2 & 4 \\end{vmatrix}$\n",
        "\n",
        "$= 1 \\cdot (3 \\cdot -2 - 1 \\cdot 4) + 2 \\cdot (-1 \\cdot 4 - 3 \\cdot 2)$\n",
        "\n",
        "$= 1 \\cdot (-6 - 4) + 2 \\cdot (-4 - 6)$\n",
        "\n",
        "$= 1 \\cdot (-10) + 2 \\cdot (-10)$\n",
        "\n",
        "$= -10 - 20 = -30.$\n",
        "\n",
        "\n",
        "$E = \\begin{pmatrix} 3 & 1 & -1 \\\\ 0 & 2 & 4 \\\\ 5 & 3 & 2 \\end{pmatrix}$\n",
        "\n",
        "$\\text{det}(E) = 3 \\cdot \\begin{vmatrix} 2 & 4 \\\\ 3 & 2 \\end{vmatrix} - 1 \\cdot \\begin{vmatrix} 0 & 4 \\\\ 5 & 2 \\end{vmatrix} - 1 \\cdot \\begin{vmatrix} 0 & 2 \\\\ 5 & 3 \\end{vmatrix}$\n",
        "\n",
        "$= 3 \\cdot (2 \\cdot 2 - 4 \\cdot 3) - 1 \\cdot (0 \\cdot 2 - 4 \\cdot 5) + 1 \\cdot (0 \\cdot 3 - 2 \\cdot 5)$\n",
        "\n",
        "$= 3 \\cdot (4 - 12) + 20 - 10$\n",
        "\n",
        "$= 3 \\cdot (-8) + 20 - 10$\n",
        "\n",
        "$= -24 + 20 - 10 = -14.$\n",
        "\n",
        "$F = \\begin{pmatrix} 2 & -3 & 1 \\\\ 1 & 4 & -2 \\\\ 1 & 5 & 3 \\end{pmatrix}$\n",
        "\n",
        "$\\text{det}(F) = 2 \\cdot \\begin{vmatrix} 4 & -2 \\\\ 5 & 3 \\end{vmatrix} - (-3) \\cdot \\begin{vmatrix} 1 & -2 \\\\ 1 & 3 \\end{vmatrix} + 1 \\cdot \\begin{vmatrix} 1 & 4 \\\\ 1 & 5 \\end{vmatrix}$\n",
        "\n",
        "$= 2 \\cdot (4 \\cdot 3 - (-2) \\cdot 5) + 3 \\cdot (1 \\cdot 3 - (-2) \\cdot 1) + 1 \\cdot (1 \\cdot 5 - 4 \\cdot 1)$\n",
        "\n",
        "$= 2 \\cdot (12 + 10) + 3 \\cdot (3 + 2) + 1 \\cdot (5 - 4)$\n",
        "\n",
        "$= 2 \\cdot 22 + 3 \\cdot 5 + 1 \\cdot 1$\n",
        "\n",
        "$= 44 + 15 + 1 = 60.$"
      ],
      "metadata": {
        "id": "82qOx25Mfm8v"
      }
    }
  ],
  "metadata": {
    "kernelspec": {
      "display_name": "Python 3",
      "language": "python",
      "name": "python3"
    },
    "language_info": {
      "codemirror_mode": {
        "name": "ipython",
        "version": 3
      },
      "file_extension": ".py",
      "mimetype": "text/x-python",
      "name": "python",
      "nbconvert_exporter": "python",
      "pygments_lexer": "ipython3",
      "version": "3.11.9"
    },
    "colab": {
      "provenance": []
    }
  },
  "nbformat": 4,
  "nbformat_minor": 0
}