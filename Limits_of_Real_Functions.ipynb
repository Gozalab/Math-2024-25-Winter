{
  "nbformat": 4,
  "nbformat_minor": 0,
  "metadata": {
    "colab": {
      "provenance": [],
      "authorship_tag": "ABX9TyN2Qlh90IcCXSR5IhigsbqZ",
      "include_colab_link": true
    },
    "kernelspec": {
      "name": "python3",
      "display_name": "Python 3"
    },
    "language_info": {
      "name": "python"
    }
  },
  "cells": [
    {
      "cell_type": "markdown",
      "metadata": {
        "id": "view-in-github",
        "colab_type": "text"
      },
      "source": [
        "<a href=\"https://colab.research.google.com/github/Gozalab/Math-2024-25-Winter/blob/main/Limits_of_Real_Functions.ipynb\" target=\"_parent\"><img src=\"https://colab.research.google.com/assets/colab-badge.svg\" alt=\"Open In Colab\"/></a>"
      ]
    },
    {
      "cell_type": "markdown",
      "source": [
        "## 20. Limits of Real Functions\n",
        "\n",
        "### 1. Compute:\n",
        "$$\n",
        "\\lim_{x \\to \\infty} \\frac{x^3 + 2x^2}{x^4 - 3x^3}\n",
        "$$\n",
        "\n",
        "**Solution:**  \n",
        "Factor out the highest power of \\( x \\) from both the numerator and denominator:\n",
        "\n",
        "$$\n",
        "\\lim_{x \\to \\infty} \\frac{x^3 (1 + \\frac{2}{x})}{x^4 (1 - \\frac{3}{x})}\n",
        "= \\lim_{x \\to \\infty} \\frac{1}{x} \\cdot \\frac{1 + \\frac{2}{x}}{1 - \\frac{3}{x}}\n",
        "$$\n",
        "\n",
        "As \\( x \\to \\infty \\), the terms \\( \\frac{2}{x} \\to 0 \\) and \\( \\frac{3}{x} \\to 0 \\):\n",
        "\n",
        "$$\n",
        "\\lim_{x \\to \\infty} \\frac{1}{x} \\cdot \\frac{1 + 0}{1 - 0} = 0\n",
        "$$\n",
        "\n",
        "**Result:** \\( 0 \\)\n",
        "\n",
        "---\n",
        "\n",
        "### 2. Find:\n",
        "$$\n",
        "\\lim_{x \\to 0} \\frac{\\sin(3x)}{2x + 1}\n",
        "$$\n",
        "\n",
        "**Solution:**  \n",
        "For small \\( x \\), \\( \\sin(3x) \\approx 3x \\). Substituting this approximation:\n",
        "\n",
        "$$\n",
        "\\lim_{x \\to 0} \\frac{\\sin(3x)}{2x + 1} = \\lim_{x \\to 0} \\frac{3x}{2x + 1}\n",
        "$$\n",
        "\n",
        "As \\( x \\to 0 \\), the denominator becomes:\n",
        "\n",
        "$$\n",
        "\\lim_{x \\to 0} \\frac{3x}{2x + 1} = \\frac{3 \\cdot 0}{2 \\cdot 0 + 1} = 0\n",
        "$$\n",
        "\n",
        "**Result:** \\( 0 \\)\n",
        "\n",
        "---\n",
        "\n",
        "### 3. Find the asymptotes of the functions:\n",
        "\n",
        "#### (a) \\( f(x) = \\frac{x^2 - 1}{x^2 + 1} \\)\n",
        "\n",
        "**Solution:**\n",
        "\n",
        "- **Vertical Asymptote:** The denominator \\( x^2 + 1 \\neq 0 \\) for real \\( x \\), so there are no vertical asymptotes.\n",
        "- **Horizontal Asymptote:** Divide the numerator and denominator by \\( x^2 \\) (the highest power of \\( x \\)):\n",
        "\n",
        "$$\n",
        "\\lim_{x \\to \\pm \\infty} \\frac{x^2 - 1}{x^2 + 1} = \\frac{1 - \\frac{1}{x^2}}{1 + \\frac{1}{x^2}}\n",
        "$$\n",
        "\n",
        "As \\( x \\to \\infty \\), the terms \\( \\frac{1}{x^2} \\to 0 \\):\n",
        "\n",
        "$$\n",
        "\\lim_{x \\to \\pm \\infty} \\frac{1 - 0}{1 + 0} = 1\n",
        "$$\n",
        "\n",
        "**Result:** Horizontal asymptote \\( y = 1 \\); no vertical asymptotes.\n",
        "\n",
        "---\n",
        "\n",
        "#### (b) \\( g(x) = \\frac{\\sin(x)}{x^2 + 1} \\)\n",
        "\n",
        "**Solution:**\n",
        "\n",
        "- **Vertical Asymptote:** Since \\( x^2 + 1 > 0 \\) for all real \\( x \\), there are no vertical asymptotes.\n",
        "- **Horizontal Asymptote:** As \\( x \\to \\pm \\infty \\), the denominator \\( x^2 + 1 \\to \\infty \\) while \\( \\sin(x) \\) remains bounded (\\( -1 \\leq \\sin(x) \\leq 1 \\)):\n",
        "\n",
        "$$\n",
        "\\lim_{x \\to \\pm \\infty} \\frac{\\sin(x)}{x^2 + 1} = 0\n",
        "$$\n",
        "\n",
        "**Result:** Horizontal asymptote \\( y = 0 \\); no vertical asymptotes.\n",
        "\n",
        "---\n",
        "\n",
        "\n",
        "\n",
        "\n",
        "\n",
        "## 20. Limits of Real Functions\n",
        "\n",
        "1. Compute:\n",
        "   - $\\displaystyle\\lim_{x \\to \\infty} \\frac{x^3 + 2x^2}{x^4 - 3x^3}$\n",
        "\n",
        "2. Find:\n",
        "   \n",
        "   - $\\displaystyle \\lim_{x \\to 0} \\frac{\\sin(3x)}{2x+1}$.\n",
        "\n",
        "4. Find the asymptotes of the function:\n",
        "  \n",
        "   - $f(x) = \\frac{x^2 - 1}{x^2 + 1}$\n",
        "   - $g(x) = \\frac{\\sin(x)}{x^2+1}$"
      ],
      "metadata": {
        "id": "jTR5amdQPqUi"
      }
    },
    {
      "cell_type": "code",
      "source": [],
      "metadata": {
        "id": "WUU5ymeQQfCs"
      },
      "execution_count": null,
      "outputs": []
    }
  ]
}