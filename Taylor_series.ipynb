{
  "nbformat": 4,
  "nbformat_minor": 0,
  "metadata": {
    "colab": {
      "provenance": [],
      "authorship_tag": "ABX9TyMsdVanLZ7OxceSBEizlNlZ",
      "include_colab_link": true
    },
    "kernelspec": {
      "name": "python3",
      "display_name": "Python 3"
    },
    "language_info": {
      "name": "python"
    }
  },
  "cells": [
    {
      "cell_type": "markdown",
      "metadata": {
        "id": "view-in-github",
        "colab_type": "text"
      },
      "source": [
        "<a href=\"https://colab.research.google.com/github/Gozalab/Math-2024-25-Winter/blob/main/Taylor_series.ipynb\" target=\"_parent\"><img src=\"https://colab.research.google.com/assets/colab-badge.svg\" alt=\"Open In Colab\"/></a>"
      ]
    },
    {
      "cell_type": "markdown",
      "source": [
        "## Taylor Series\n",
        "\n",
        "1. Find the Taylor series and visualize obtained functions in Geogebra:\n",
        "   - $f(x) = \\cos(x)$ around $x = 0$ up to the 4th degree.\n",
        "   - $h(x) = 1/(1-x)$ around $x = 0$ up to the 4rd degree.\n",
        "   - $g(x) = \\sin(x)$ around $x = \\pi$ up to the 4rd degree.\n",
        "\n",
        "2. Find a tangent line $y = f'(x_0) (x-x_0) + f(x_0)$ to the function $f(x) = e^{\\sin(x)}$ at $x_0 = \\pi$. Hints for Geogebra visualization: define f(x), include slider s, define y = f'(s) (x-s) + f(s), and include point P(s, f(s)).\n",
        "\n",
        "\n",
        "\\section*{Taylor Series}\n",
        "\n",
        "{1. Find the Taylor series and visualize obtained functions in Geogebra}\n",
        "\n",
        "\\begin{enumerate}\n",
        "    \\item For $f(x) = \\cos(x)$ around $x = 0$ up to the 4th degree:\n",
        "    $$\n",
        "    f(x) = \\cos(x) = 1 - \\frac{x^2}{2!} + \\frac{x^4}{4!} + \\mathcal{O}(x^6).\n",
        "    $$\n",
        "    The Taylor polynomial up to the 4th degree is:\n",
        "    $$\n",
        "    f(x) \\approx 1 - \\frac{x^2}{2} + \\frac{x^4}{24}.\n",
        "    $$\n",
        "\n",
        "\n",
        "\n",
        "{2. Find a tangent line to $f(x) = e^{\\sin(x)}$ at $x_0 = \\pi$}\n",
        "\n",
        "The formula for the tangent line is:\n",
        "$$\n",
        "y = f'(x_0)(x - x_0) + f(x_0).\n",
        "$$\n",
        "Here, $f(x) = e^{\\sin(x)}$, and $x_0 = \\pi$. Compute $f'(x)$:\n",
        "$$\n",
        "f'(x) = e^{\\sin(x)} \\cdot \\cos(x).\n",
        "$$\n",
        "At $x_0 = \\pi$:\n",
        "$$\n",
        "f(\\pi) = e^{\\sin(\\pi)} = e^0 = 1,\n",
        "$$\n",
        "$$\n",
        "f'(\\pi) = e^{\\sin(\\pi)} \\cdot \\cos(\\pi) = 1 \\cdot (-1) = -1.\n",
        "$$\n",
        "The tangent line is:\n",
        "$$\n",
        "y = -1 \\cdot (x - \\pi) + 1 = -x + \\pi + 1.\n",
        "$$\n",
        "\n"
      ],
      "metadata": {
        "id": "DCHQuKFq5Qzw"
      }
    },
    {
      "cell_type": "code",
      "execution_count": null,
      "metadata": {
        "id": "O5IVA6De5Hya"
      },
      "outputs": [],
      "source": []
    }
  ]
}