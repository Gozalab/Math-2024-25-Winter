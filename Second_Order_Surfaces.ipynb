{
  "nbformat": 4,
  "nbformat_minor": 0,
  "metadata": {
    "colab": {
      "provenance": [],
      "authorship_tag": "ABX9TyN2m6DA2BA/NY0rSWt7gjQV",
      "include_colab_link": true
    },
    "kernelspec": {
      "name": "python3",
      "display_name": "Python 3"
    },
    "language_info": {
      "name": "python"
    }
  },
  "cells": [
    {
      "cell_type": "markdown",
      "metadata": {
        "id": "view-in-github",
        "colab_type": "text"
      },
      "source": [
        "<a href=\"https://colab.research.google.com/github/Gozalab/Math-2024-25-Winter/blob/main/Second_Order_Surfaces.ipynb\" target=\"_parent\"><img src=\"https://colab.research.google.com/assets/colab-badge.svg\" alt=\"Open In Colab\"/></a>"
      ]
    },
    {
      "cell_type": "markdown",
      "source": [],
      "metadata": {
        "id": "8H5yKnuF0QZE"
      }
    },
    {
      "cell_type": "markdown",
      "source": [
        "# Tasks Related to Second-Order Surfaces\n",
        "\n",
        "### General Notes on Second-Order Surfaces:\n",
        "\n",
        "1. **Equation of a Sphere:**\n",
        "   - General form:\n",
        "     $$\n",
        "     (x - x_0)^2 + (y - y_0)^2 + (z - z_0)^2 = r^2\n",
        "     $$\n",
        "   - Center: \\((x_0, y_0, z_0)\\), Radius: \\(r\\).\n",
        "\n",
        "2. **Intersection of Two Spheres:**\n",
        "   - The intersection of two spheres forms a circle in space if the spheres intersect.\n",
        "\n",
        "3. **Equation of a Tangent Plane to a Surface:**\n",
        "   - For a surface given by \\(F(x, y, z) = 0\\), the tangent plane at point \\(P(x_0, y_0, z_0)\\) is:\n",
        "     $$\n",
        "     F_x(x_0, y_0, z_0)(x - x_0) + F_y(x_0, y_0, z_0)(y - y_0) + F_z(x_0, y_0, z_0)(z - z_0) = 0\n",
        "     $$\n",
        "\n",
        "---\n",
        "\n",
        "### Tasks and Their Solutions:\n",
        "\n",
        "#### **1. Write the equation of a sphere with center at \\(P=(1, 2, 3)\\) and radius \\(r=3\\):**\n",
        "- Formula:\n",
        "  $$\n",
        "  (x - x_0)^2 + (y - y_0)^2 + (z - z_0)^2 = r^2\n",
        "  $$\n",
        "- Substituting values:\n",
        "  $$\n",
        "  (x - 1)^2 + (y - 2)^2 + (z - 3)^2 = 9\n",
        "  $$\n",
        "\n",
        "---\n",
        "\n",
        "#### **2. Do the spheres \\(x^2 + y^2 + z^2 = 1\\) and \\(x^2 + y^2 + z^2 = 2\\) have any common points?**\n",
        "- The spheres are concentric with different radii (\\(r_1 = 1\\), \\(r_2 = \\sqrt{2}\\)).\n",
        "- Since the radii are different, the spheres do not intersect, and they have no common points.\n",
        "\n",
        "---\n",
        "\n",
        "#### **3. What curve in space is formed by the intersection of \\(x^2 + y^2 + z^2 = 1\\) and \\((x-1)^2 + y^2 + z^2 = 1\\)? Find the equation of the curve:**\n",
        "- Expand the second sphere's equation:\n",
        "  $$\n",
        "  (x-1)^2 + y^2 + z^2 = 1 \\implies x^2 - 2x + 1 + y^2 + z^2 = 1\n",
        "  $$\n",
        "  Simplify:\n",
        "  $$\n",
        "  x^2 + y^2 + z^2 - 2x = 0\n",
        "  $$\n",
        "- Substitute \\(x^2 + y^2 + z^2 = 1\\) into the equation:\n",
        "  $$\n",
        "  1 - 2x = 0 \\implies x = \\frac{1}{2}\n",
        "  $$\n",
        "- The intersection curve is a circle in the plane \\(x = \\frac{1}{2}\\), lying on the spheres.\n",
        "\n",
        "---\n",
        "\n",
        "#### **4. Write the equation of the tangent plane to \\(z = (x-1)^2 + y^2 + 1\\) at point \\(P=(1, 0, 1)\\):**\n",
        "- Define the surface \\(F(x, y, z) = z - (x-1)^2 - y^2 - 1 = 0\\).\n",
        "- Partial derivatives:\n",
        "  $$\n",
        "  F_x = -2(x - 1), \\quad F_y = -2y, \\quad F_z = 1\n",
        "  $$\n",
        "- At \\(P(1, 0, 1)\\):\n",
        "  $$\n",
        "  F_x(1, 0, 1) = 0, \\quad F_y(1, 0, 1) = 0, \\quad F_z(1, 0, 1) = 1\n",
        "  $$\n",
        "- Tangent plane equation:\n",
        "  $$\n",
        "  0(x - 1) + 0(y - 0) + 1(z - 1) = 0\n",
        "  $$\n",
        "  Simplify:\n",
        "  $$\n",
        "  z = 1\n",
        "  $$\n",
        "\n",
        "\n",
        "# Tasks related to second-order surfaces\n",
        "\n",
        "**Visualize each task.** - Python, GeoGebra, Wolfram Alpha, ...\n",
        "\n",
        "* Write the equation of a sphere with center at point $P=(1,2,3)$ and radius $r=3$.\n",
        "* Do the spheres with equations $x^2 + y^2 + z^2 = 1$ and $x^2 + y^2 + z^2 = 2$ have any common points?\n",
        "* What curve in space is formed by the intersection of the sphere $x^2 + y^2 + z^2 = 1$ with the sphere $(x-1)^2 + y^2 + z^2 = 1$? Find the equation of this curve.\n",
        "* Write the equation of the tangent plane to the paraboloid $z=(x-1)^2+y^2+1$ at point $P=(1,0,1)$."
      ],
      "metadata": {
        "id": "3vZmhjJN0RQ0"
      }
    },
    {
      "cell_type": "code",
      "source": [],
      "metadata": {
        "id": "A81EXpnE0Yrj"
      },
      "execution_count": null,
      "outputs": []
    }
  ]
}