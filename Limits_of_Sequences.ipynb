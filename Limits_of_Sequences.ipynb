{
  "nbformat": 4,
  "nbformat_minor": 0,
  "metadata": {
    "colab": {
      "provenance": [],
      "authorship_tag": "ABX9TyPsEtkDfPewdfyVuhRUezwL",
      "include_colab_link": true
    },
    "kernelspec": {
      "name": "python3",
      "display_name": "Python 3"
    },
    "language_info": {
      "name": "python"
    }
  },
  "cells": [
    {
      "cell_type": "markdown",
      "metadata": {
        "id": "view-in-github",
        "colab_type": "text"
      },
      "source": [
        "<a href=\"https://colab.research.google.com/github/Gozalab/Math-2024-25-Winter/blob/main/Limits_of_Sequences.ipynb\" target=\"_parent\"><img src=\"https://colab.research.google.com/assets/colab-badge.svg\" alt=\"Open In Colab\"/></a>"
      ]
    },
    {
      "cell_type": "markdown",
      "source": [
        "### 1. **Calculate:**\n",
        "\n",
        "####\n",
        "\n",
        "$$\n",
        "\\lim_{n \\to \\infty} \\frac{n^2 + 3n^2}{n^2 - 2n}\n",
        "= \\lim_{n \\to \\infty} \\frac{4n^2}{n^2 - 2n}\n",
        "= \\lim_{n \\to \\infty} \\frac{4}{1 - \\frac{2}{n}}\n",
        "= 4 \\quad (\\text{since } \\frac{2}{n} \\to 0 \\text{ as } n \\to \\infty)\n",
        "$$\n",
        "\n",
        "**Result: 4**\n",
        "\n",
        "---\n",
        "\n",
        "### 2. **Calculate:**\n",
        "\n",
        "####\n",
        "\n",
        "$$\n",
        "\\lim_{n \\to \\infty} \\frac{(2n + 3)^3}{3n^3 - 1}\n",
        "= \\lim_{n \\to \\infty} \\frac{8n^3 + O(n^2)}{3n^3 - 1}\n",
        "= \\lim_{n \\to \\infty} \\frac{n^3(8 + O(1/n))}{n^3(3 - \\frac{1}{n^3})}\n",
        "= \\frac{8}{3} \\quad (\\text{since } O(1/n) \\to 0 \\text{ as } n \\to \\infty)\n",
        "$$\n",
        "\n",
        "**Result: \\( \\frac{8}{3} \\)**\n",
        "\n",
        "---\n",
        "\n",
        "### 3. **Prove using the squeeze theorem:**\n",
        "\n",
        "####\n",
        "\n",
        "The sine function satisfies:\n",
        "\n",
        "$$\n",
        "-1 \\leq \\sin(n) \\leq 1\n",
        "$$\n",
        "\n",
        "Dividing through by \\( n \\) (where \\( n > 0 \\)):\n",
        "\n",
        "$$\n",
        "- \\frac{1}{n} \\leq \\frac{\\sin(n)}{n} \\leq \\frac{1}{n}\n",
        "$$\n",
        "\n",
        "Taking the limit as \\( n \\to \\infty \\):\n",
        "\n",
        "$$\n",
        "\\lim_{n \\to \\infty} -\\frac{1}{n} = 0, \\quad \\lim_{n \\to \\infty} \\frac{1}{n} = 0\n",
        "$$\n",
        "\n",
        "By the **squeeze theorem**:\n",
        "\n",
        "$$\n",
        "\\lim_{n \\to \\infty} \\frac{\\sin(n)}{n} = 0\n",
        "$$\n",
        "\n",
        "**Result: 0**\n",
        "\n",
        "---\n",
        "\n",
        "### 4. **Find the limit of the sequence:**\n",
        "\n",
        "####\n",
        "\n",
        "This sequence converges to the mathematical constant \\( e \\) as \\( n \\to \\infty \\):\n",
        "\n",
        "$$\n",
        "\\lim_{n \\to \\infty} \\left( 1 + \\frac{1}{n} \\right)^n = e\n",
        "$$\n",
        "\n",
        "**Result: \\( e \\)**\n",
        "\n",
        "\n",
        "\n",
        "\n",
        "\n",
        "## 19. Limits of Sequences\n",
        "\n",
        "1. Calculate:\n",
        "   - $\\displaystyle \\lim_{n \\to \\infty} \\frac{n^2 + 3n}{2 n^2 - 2n}$\n",
        "\n",
        "   - $\\displaystyle \\lim_{n \\to \\infty} \\frac{(2n+3)^3}{n^3-1}$\n",
        "\n",
        "2. Prove using the squeeze theorem:\n",
        "   - $\\displaystyle\\lim_{n \\to \\infty} \\frac{\\sin(n)}{n}$\n",
        "\n",
        "4. Find the limit of the sequence:\n",
        "   - $a_n = (1+\\frac{1}{n})^n$\n"
      ],
      "metadata": {
        "id": "VzW9a0F4Lo4O"
      }
    },
    {
      "cell_type": "code",
      "source": [],
      "metadata": {
        "id": "B_dUjCP4MtJX"
      },
      "execution_count": null,
      "outputs": []
    }
  ]
}